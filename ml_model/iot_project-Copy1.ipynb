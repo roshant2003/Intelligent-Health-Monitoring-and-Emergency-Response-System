{
 "cells": [
  {
   "cell_type": "markdown",
   "id": "4cd42edc",
   "metadata": {},
   "source": [
    "importing the necessary libraries"
   ]
  },
  {
   "cell_type": "code",
   "execution_count": 1,
   "id": "bd512bd4",
   "metadata": {},
   "outputs": [],
   "source": [
    "import pandas as pd\n",
    "import seaborn as sns\n",
    "import matplotlib.pyplot as plt"
   ]
  },
  {
   "cell_type": "markdown",
   "id": "654607b4",
   "metadata": {},
   "source": [
    "#importing the data file and storing it in the pandas dataframe"
   ]
  },
  {
   "cell_type": "code",
   "execution_count": 2,
   "id": "627af50e",
   "metadata": {},
   "outputs": [],
   "source": [
    "df=pd.read_csv(r\"C:\\Users\\rosha\\AI-ml-basics\\data01.csv\")"
   ]
  },
  {
   "cell_type": "code",
   "execution_count": 3,
   "id": "70ac917c",
   "metadata": {},
   "outputs": [
    {
     "name": "stdout",
     "output_type": "stream",
     "text": [
      "   group      ID  outcome  age  gendera        BMI  hypertensive  \\\n",
      "0      1  125047      0.0   72        1  37.588179             0   \n",
      "1      1  139812      0.0   75        2        NaN             0   \n",
      "2      1  109787      0.0   83        2  26.572634             0   \n",
      "3      1  130587      0.0   43        2  83.264629             0   \n",
      "4      1  138290      0.0   75        2  31.824842             1   \n",
      "\n",
      "   atrialfibrillation  CHD with no MI  diabetes  ...  Blood sodium  \\\n",
      "0                   0               0         1  ...    138.750000   \n",
      "1                   0               0         0  ...    138.888889   \n",
      "2                   0               0         0  ...    140.714286   \n",
      "3                   0               0         0  ...    138.500000   \n",
      "4                   0               0         0  ...    136.666667   \n",
      "\n",
      "   Blood calcium    Chloride  Anion gap  Magnesium ion     PH  Bicarbonate  \\\n",
      "0       7.463636  109.166667  13.166667       2.618182  7.230    21.166667   \n",
      "1       8.162500   98.444444  11.444444       1.887500  7.225    33.444444   \n",
      "2       8.266667  105.857143  10.000000       2.157143  7.268    30.571429   \n",
      "3       9.476923   92.071429  12.357143       1.942857  7.370    38.571429   \n",
      "4       8.733333  104.500000  15.166667       1.650000  7.250    22.000000   \n",
      "\n",
      "   Lactic acid  PCO2  EF  \n",
      "0          0.5  40.0  55  \n",
      "1          0.5  78.0  55  \n",
      "2          0.5  71.5  35  \n",
      "3          0.6  75.0  55  \n",
      "4          0.6  50.0  55  \n",
      "\n",
      "[5 rows x 51 columns]\n"
     ]
    }
   ],
   "source": [
    "print(df.head(5))"
   ]
  },
  {
   "cell_type": "markdown",
   "id": "672a2cb4",
   "metadata": {},
   "source": [
    "removing unnecessary categorical columns"
   ]
  },
  {
   "cell_type": "code",
   "execution_count": 4,
   "id": "cea5b04c",
   "metadata": {},
   "outputs": [
    {
     "name": "stdout",
     "output_type": "stream",
     "text": [
      "group                         int64\n",
      "ID                            int64\n",
      "outcome                     float64\n",
      "age                           int64\n",
      "gendera                       int64\n",
      "BMI                         float64\n",
      "hypertensive                  int64\n",
      "atrialfibrillation            int64\n",
      "CHD with no MI                int64\n",
      "diabetes                      int64\n",
      "deficiencyanemias             int64\n",
      "depression                    int64\n",
      "Hyperlipemia                  int64\n",
      "Renal failure                 int64\n",
      "COPD                          int64\n",
      "heart rate                  float64\n",
      "Systolic blood pressure     float64\n",
      "Diastolic blood pressure    float64\n",
      "Respiratory rate            float64\n",
      "temperature                 float64\n",
      "SP O2                       float64\n",
      "Urine output                float64\n",
      "hematocrit                  float64\n",
      "RBC                         float64\n",
      "MCH                         float64\n",
      "MCHC                        float64\n",
      "MCV                         float64\n",
      "RDW                         float64\n",
      "Leucocyte                   float64\n",
      "Platelets                   float64\n",
      "Neutrophils                 float64\n",
      "Basophils                   float64\n",
      "Lymphocyte                  float64\n",
      "PT                          float64\n",
      "INR                         float64\n",
      "NT-proBNP                   float64\n",
      "Creatine kinase             float64\n",
      "Creatinine                  float64\n",
      "Urea nitrogen               float64\n",
      "glucose                     float64\n",
      "Blood potassium             float64\n",
      "Blood sodium                float64\n",
      "Blood calcium               float64\n",
      "Chloride                    float64\n",
      "Anion gap                   float64\n",
      "Magnesium ion               float64\n",
      "PH                          float64\n",
      "Bicarbonate                 float64\n",
      "Lactic acid                 float64\n",
      "PCO2                        float64\n",
      "EF                            int64\n",
      "dtype: object\n"
     ]
    }
   ],
   "source": [
    "column_types = df.dtypes\n",
    "\n",
    "# Print the data types\n",
    "print(column_types)"
   ]
  },
  {
   "cell_type": "markdown",
   "id": "8654832b",
   "metadata": {},
   "source": [
    "it is clear that there is no categorical data present here but there is a binary encoding for the column \n",
    "hypertensive                  int64\n",
    "atrialfibrillation            int64\n",
    "CHD with no MI                int64\n",
    "diabetes                      int64\n",
    "deficiencyanemias             int64\n",
    "depression                    int64\n",
    "Hyperlipemia                  int64\n",
    "Renal failure                 int64\n",
    "COPD                          int64"
   ]
  },
  {
   "cell_type": "code",
   "execution_count": 5,
   "id": "1b6b0df8",
   "metadata": {},
   "outputs": [
    {
     "name": "stdout",
     "output_type": "stream",
     "text": [
      "Columns with null values:\n",
      "outcome\n",
      "BMI\n",
      "heart rate\n",
      "Systolic blood pressure\n",
      "Diastolic blood pressure\n",
      "Respiratory rate\n",
      "temperature\n",
      "SP O2\n",
      "Urine output\n",
      "Neutrophils\n",
      "Basophils\n",
      "Lymphocyte\n",
      "PT\n",
      "INR\n",
      "Creatine kinase\n",
      "glucose\n",
      "Blood calcium\n",
      "PH\n",
      "Lactic acid\n",
      "PCO2\n"
     ]
    }
   ],
   "source": [
    "# Check for null values in each column\n",
    "null_columns = df.columns[df.isnull().any()]\n",
    "\n",
    "# List down the columns with null values\n",
    "print(\"Columns with null values:\")\n",
    "for col in null_columns:\n",
    "    print(col)"
   ]
  },
  {
   "cell_type": "markdown",
   "id": "d7a05e2d",
   "metadata": {},
   "source": [
    "# outcome"
   ]
  },
  {
   "cell_type": "code",
   "execution_count": 6,
   "id": "cba502ed",
   "metadata": {},
   "outputs": [
    {
     "name": "stdout",
     "output_type": "stream",
     "text": [
      "Number of null values in the column 'outcome': 1\n"
     ]
    }
   ],
   "source": [
    "# outcome column \n",
    "#lets count the number of null values\n",
    "null_count = df[\"outcome\"].isnull().sum()\n",
    "\n",
    "print(\"Number of null values in the column 'outcome':\", null_count)"
   ]
  },
  {
   "cell_type": "code",
   "execution_count": 7,
   "id": "1e28613c",
   "metadata": {},
   "outputs": [
    {
     "name": "stdout",
     "output_type": "stream",
     "text": [
      "Number of null values in the column 'outcome': 0\n"
     ]
    }
   ],
   "source": [
    "#since the number of null values is too low lets remove the row\n",
    "df = df.dropna(subset=[\"outcome\"])\n",
    "null_count = df[\"outcome\"].isnull().sum()\n",
    "\n",
    "print(\"Number of null values in the column 'outcome':\", null_count)"
   ]
  },
  {
   "cell_type": "markdown",
   "id": "9269e4f1",
   "metadata": {},
   "source": [
    "# BMI"
   ]
  },
  {
   "cell_type": "code",
   "execution_count": 8,
   "id": "9b727936",
   "metadata": {},
   "outputs": [
    {
     "name": "stdout",
     "output_type": "stream",
     "text": [
      "Number of null values in the column 'BMI': 214\n"
     ]
    }
   ],
   "source": [
    "null_count = df[\"BMI\"].isnull().sum()\n",
    "\n",
    "print(\"Number of null values in the column 'BMI':\", null_count)"
   ]
  },
  {
   "cell_type": "code",
   "execution_count": 9,
   "id": "aedb6d92",
   "metadata": {},
   "outputs": [],
   "source": [
    "average_bmi = df[\"BMI\"].mean()\n",
    "\n",
    "# Fill null values in the \"bmi\" column with the calculated average\n",
    "df[\"BMI\"].fillna(average_bmi, inplace=True)"
   ]
  },
  {
   "cell_type": "code",
   "execution_count": 10,
   "id": "55cf6374",
   "metadata": {},
   "outputs": [
    {
     "name": "stdout",
     "output_type": "stream",
     "text": [
      "Number of null values in the column 'BMI': 0\n"
     ]
    }
   ],
   "source": [
    "null_count = df[\"BMI\"].isnull().sum()\n",
    "\n",
    "print(\"Number of null values in the column 'BMI':\", null_count)"
   ]
  },
  {
   "cell_type": "markdown",
   "id": "fcbffc76",
   "metadata": {},
   "source": [
    "# heart rate"
   ]
  },
  {
   "cell_type": "code",
   "execution_count": 11,
   "id": "853513d3",
   "metadata": {},
   "outputs": [
    {
     "name": "stdout",
     "output_type": "stream",
     "text": [
      "Number of null values in the column 'heart rate': 12\n"
     ]
    }
   ],
   "source": [
    "null_count = df[\"heart rate\"].isnull().sum()\n",
    "\n",
    "print(\"Number of null values in the column 'heart rate':\", null_count)"
   ]
  },
  {
   "cell_type": "code",
   "execution_count": 12,
   "id": "dad264e2",
   "metadata": {},
   "outputs": [
    {
     "name": "stdout",
     "output_type": "stream",
     "text": [
      "Number of null values in the column 'heart rate': 0\n"
     ]
    }
   ],
   "source": [
    "df = df.dropna(subset=[\"heart rate\"])\n",
    "null_count = df[\"heart rate\"].isnull().sum()\n",
    "\n",
    "print(\"Number of null values in the column 'heart rate':\", null_count)"
   ]
  },
  {
   "cell_type": "markdown",
   "id": "33451365",
   "metadata": {},
   "source": [
    "# Systolic blood pressure"
   ]
  },
  {
   "cell_type": "code",
   "execution_count": 13,
   "id": "44215e3c",
   "metadata": {},
   "outputs": [
    {
     "name": "stdout",
     "output_type": "stream",
     "text": [
      "Number of null values in the column 'Systolic blood pressure': 3\n"
     ]
    }
   ],
   "source": [
    "null_count = df[\"Systolic blood pressure\"].isnull().sum()\n",
    "\n",
    "print(\"Number of null values in the column 'Systolic blood pressure':\", null_count)"
   ]
  },
  {
   "cell_type": "code",
   "execution_count": 14,
   "id": "479bcc08",
   "metadata": {},
   "outputs": [
    {
     "name": "stdout",
     "output_type": "stream",
     "text": [
      "Number of null values in the column 'Systolic blood pressure': 0\n"
     ]
    }
   ],
   "source": [
    "df = df.dropna(subset=[\"Systolic blood pressure\"])\n",
    "null_count = df[\"Systolic blood pressure\"].isnull().sum()\n",
    "\n",
    "print(\"Number of null values in the column 'Systolic blood pressure':\", null_count)"
   ]
  },
  {
   "cell_type": "markdown",
   "id": "0a77c9f6",
   "metadata": {},
   "source": [
    "# Diastolic blood pressure"
   ]
  },
  {
   "cell_type": "code",
   "execution_count": 15,
   "id": "a7dd229e",
   "metadata": {},
   "outputs": [
    {
     "name": "stdout",
     "output_type": "stream",
     "text": [
      "Number of null values in the column 'Diastolic blood pressure': 0\n"
     ]
    }
   ],
   "source": [
    "null_count = df[\"Diastolic blood pressure\"].isnull().sum()\n",
    "\n",
    "print(\"Number of null values in the column 'Diastolic blood pressure':\", null_count)"
   ]
  },
  {
   "cell_type": "markdown",
   "id": "d9d7f9c3",
   "metadata": {},
   "source": [
    "# Respiratory rate"
   ]
  },
  {
   "cell_type": "code",
   "execution_count": 16,
   "id": "9260b33e",
   "metadata": {},
   "outputs": [
    {
     "name": "stdout",
     "output_type": "stream",
     "text": [
      "Number of null values in the column 'Respiratory rate': 0\n"
     ]
    }
   ],
   "source": [
    "null_count = df[\"Respiratory rate\"].isnull().sum()\n",
    "\n",
    "print(\"Number of null values in the column 'Respiratory rate':\", null_count)"
   ]
  },
  {
   "cell_type": "markdown",
   "id": "79509002",
   "metadata": {},
   "source": [
    "# temperature"
   ]
  },
  {
   "cell_type": "code",
   "execution_count": 17,
   "id": "4710243e",
   "metadata": {},
   "outputs": [
    {
     "name": "stdout",
     "output_type": "stream",
     "text": [
      "Number of null values in the column 'temperature': 6\n"
     ]
    }
   ],
   "source": [
    "null_count = df[\"temperature\"].isnull().sum()\n",
    "\n",
    "print(\"Number of null values in the column 'temperature':\", null_count)"
   ]
  },
  {
   "cell_type": "code",
   "execution_count": 18,
   "id": "b7ca185c",
   "metadata": {},
   "outputs": [
    {
     "name": "stdout",
     "output_type": "stream",
     "text": [
      "Number of null values in the column 'temperature': 0\n"
     ]
    }
   ],
   "source": [
    "df = df.dropna(subset=[\"temperature\"])\n",
    "null_count = df[\"temperature\"].isnull().sum()\n",
    "\n",
    "print(\"Number of null values in the column 'temperature':\", null_count)"
   ]
  },
  {
   "cell_type": "markdown",
   "id": "7be4dbe3",
   "metadata": {},
   "source": [
    "# SP O2"
   ]
  },
  {
   "cell_type": "code",
   "execution_count": 19,
   "id": "5b1738ff",
   "metadata": {},
   "outputs": [
    {
     "name": "stdout",
     "output_type": "stream",
     "text": [
      "Number of null values in the column 'SP O2': 0\n"
     ]
    }
   ],
   "source": [
    "null_count = df[\"SP O2\"].isnull().sum()\n",
    "\n",
    "print(\"Number of null values in the column 'SP O2':\", null_count)"
   ]
  },
  {
   "cell_type": "code",
   "execution_count": 20,
   "id": "c5654ad1",
   "metadata": {},
   "outputs": [
    {
     "name": "stdout",
     "output_type": "stream",
     "text": [
      "Columns with null values:\n",
      "Urine output\n",
      "Neutrophils\n",
      "Basophils\n",
      "Lymphocyte\n",
      "PT\n",
      "INR\n",
      "Creatine kinase\n",
      "glucose\n",
      "Blood calcium\n",
      "PH\n",
      "Lactic acid\n",
      "PCO2\n"
     ]
    }
   ],
   "source": [
    "# Check for null values in each column\n",
    "null_columns = df.columns[df.isnull().any()]\n",
    "\n",
    "# List down the columns with null values\n",
    "print(\"Columns with null values:\")\n",
    "for col in null_columns:\n",
    "    print(col)"
   ]
  },
  {
   "cell_type": "markdown",
   "id": "31fc6171",
   "metadata": {},
   "source": [
    "# Urine output"
   ]
  },
  {
   "cell_type": "code",
   "execution_count": 21,
   "id": "b64c0a8d",
   "metadata": {},
   "outputs": [
    {
     "name": "stdout",
     "output_type": "stream",
     "text": [
      "Number of null values in the column 'Urine output': 23\n"
     ]
    }
   ],
   "source": [
    "null_count = df[\"Urine output\"].isnull().sum()\n",
    "\n",
    "print(\"Number of null values in the column 'Urine output':\", null_count)"
   ]
  },
  {
   "cell_type": "code",
   "execution_count": 22,
   "id": "fe2d767e",
   "metadata": {},
   "outputs": [],
   "source": [
    "average_bmi = df[\"Urine output\"].mean()\n",
    "\n",
    "# Fill null values in the \"bmi\" column with the calculated average\n",
    "df[\"Urine output\"].fillna(average_bmi, inplace=True)"
   ]
  },
  {
   "cell_type": "code",
   "execution_count": 23,
   "id": "024976f2",
   "metadata": {},
   "outputs": [
    {
     "name": "stdout",
     "output_type": "stream",
     "text": [
      "Number of null values in the column 'Urine output': 0\n"
     ]
    }
   ],
   "source": [
    "null_count = df[\"Urine output\"].isnull().sum()\n",
    "\n",
    "print(\"Number of null values in the column 'Urine output':\", null_count)"
   ]
  },
  {
   "cell_type": "markdown",
   "id": "ecaf9a2f",
   "metadata": {},
   "source": [
    "# Neutrophils"
   ]
  },
  {
   "cell_type": "code",
   "execution_count": 24,
   "id": "5483cae4",
   "metadata": {},
   "outputs": [
    {
     "name": "stdout",
     "output_type": "stream",
     "text": [
      "Number of null values in the column 'Neutrophils': 139\n"
     ]
    }
   ],
   "source": [
    "null_count = df[\"Neutrophils\"].isnull().sum()\n",
    "\n",
    "print(\"Number of null values in the column 'Neutrophils':\", null_count)"
   ]
  },
  {
   "cell_type": "code",
   "execution_count": 25,
   "id": "90cb8b8d",
   "metadata": {},
   "outputs": [],
   "source": [
    "average_bmi = df[\"Neutrophils\"].mean()\n",
    "\n",
    "# Fill null values in the \"bmi\" column with the calculated average\n",
    "df[\"Neutrophils\"].fillna(average_bmi, inplace=True)"
   ]
  },
  {
   "cell_type": "code",
   "execution_count": 26,
   "id": "0fd0c6fe",
   "metadata": {},
   "outputs": [
    {
     "name": "stdout",
     "output_type": "stream",
     "text": [
      "Number of null values in the column 'Neutrophils': 0\n"
     ]
    }
   ],
   "source": [
    "null_count = df[\"Neutrophils\"].isnull().sum()\n",
    "\n",
    "print(\"Number of null values in the column 'Neutrophils':\", null_count)"
   ]
  },
  {
   "cell_type": "markdown",
   "id": "a2201b1d",
   "metadata": {},
   "source": [
    "# Basophils"
   ]
  },
  {
   "cell_type": "code",
   "execution_count": 27,
   "id": "cecd97e8",
   "metadata": {},
   "outputs": [
    {
     "name": "stdout",
     "output_type": "stream",
     "text": [
      "Number of null values in the column 'Basophils': 252\n"
     ]
    }
   ],
   "source": [
    "null_count = df[\"Basophils\"].isnull().sum()\n",
    "\n",
    "print(\"Number of null values in the column 'Basophils':\", null_count)"
   ]
  },
  {
   "cell_type": "code",
   "execution_count": 28,
   "id": "58e6f6bb",
   "metadata": {},
   "outputs": [],
   "source": [
    "average_bmi = df[\"Basophils\"].mean()\n",
    "\n",
    "# Fill null values in the \"bmi\" column with the calculated average\n",
    "df[\"Basophils\"].fillna(average_bmi, inplace=True)"
   ]
  },
  {
   "cell_type": "code",
   "execution_count": 29,
   "id": "983065ea",
   "metadata": {},
   "outputs": [
    {
     "name": "stdout",
     "output_type": "stream",
     "text": [
      "Number of null values in the column 'Basophils': 0\n"
     ]
    }
   ],
   "source": [
    "null_count = df[\"Basophils\"].isnull().sum()\n",
    "\n",
    "print(\"Number of null values in the column 'Basophils':\", null_count)"
   ]
  },
  {
   "cell_type": "markdown",
   "id": "a94859c8",
   "metadata": {},
   "source": [
    "# Lymphocyte"
   ]
  },
  {
   "cell_type": "code",
   "execution_count": 30,
   "id": "fcc23908",
   "metadata": {},
   "outputs": [
    {
     "name": "stdout",
     "output_type": "stream",
     "text": [
      "Number of null values in the column 'Lymphocyte': 140\n"
     ]
    }
   ],
   "source": [
    "null_count = df[\"Lymphocyte\"].isnull().sum()\n",
    "\n",
    "print(\"Number of null values in the column 'Lymphocyte':\", null_count)"
   ]
  },
  {
   "cell_type": "code",
   "execution_count": 31,
   "id": "8ee11995",
   "metadata": {},
   "outputs": [],
   "source": [
    "average_bmi = df[\"Lymphocyte\"].mean()\n",
    "\n",
    "# Fill null values in the \"bmi\" column with the calculated average\n",
    "df[\"Lymphocyte\"].fillna(average_bmi, inplace=True)"
   ]
  },
  {
   "cell_type": "code",
   "execution_count": 32,
   "id": "4573b3ca",
   "metadata": {},
   "outputs": [
    {
     "name": "stdout",
     "output_type": "stream",
     "text": [
      "Number of null values in the column 'Lymphocyte': 0\n"
     ]
    }
   ],
   "source": [
    "null_count = df[\"Lymphocyte\"].isnull().sum()\n",
    "\n",
    "print(\"Number of null values in the column 'Lymphocyte':\", null_count)"
   ]
  },
  {
   "cell_type": "markdown",
   "id": "3f5f9abf",
   "metadata": {},
   "source": [
    "# PT"
   ]
  },
  {
   "cell_type": "code",
   "execution_count": 33,
   "id": "21be6f30",
   "metadata": {},
   "outputs": [
    {
     "name": "stdout",
     "output_type": "stream",
     "text": [
      "Number of null values in the column 'PT': 20\n"
     ]
    }
   ],
   "source": [
    "null_count = df[\"PT\"].isnull().sum()\n",
    "\n",
    "print(\"Number of null values in the column 'PT':\", null_count)"
   ]
  },
  {
   "cell_type": "code",
   "execution_count": 34,
   "id": "7a2ecd1b",
   "metadata": {},
   "outputs": [],
   "source": [
    "average_bmi = df[\"PT\"].mean()\n",
    "\n",
    "# Fill null values in the \"bmi\" column with the calculated average\n",
    "df[\"PT\"].fillna(average_bmi, inplace=True)"
   ]
  },
  {
   "cell_type": "code",
   "execution_count": 35,
   "id": "2dd811ce",
   "metadata": {},
   "outputs": [
    {
     "name": "stdout",
     "output_type": "stream",
     "text": [
      "Number of null values in the column 'PT': 0\n"
     ]
    }
   ],
   "source": [
    "null_count = df[\"PT\"].isnull().sum()\n",
    "\n",
    "print(\"Number of null values in the column 'PT':\", null_count)"
   ]
  },
  {
   "cell_type": "markdown",
   "id": "6589d2ea",
   "metadata": {},
   "source": [
    "# INR"
   ]
  },
  {
   "cell_type": "code",
   "execution_count": 36,
   "id": "8a562233",
   "metadata": {},
   "outputs": [
    {
     "name": "stdout",
     "output_type": "stream",
     "text": [
      "Number of null values in the column 'INR': 20\n"
     ]
    }
   ],
   "source": [
    "null_count = df[\"INR\"].isnull().sum()\n",
    "\n",
    "print(\"Number of null values in the column 'INR':\", null_count)"
   ]
  },
  {
   "cell_type": "code",
   "execution_count": 37,
   "id": "9859e52d",
   "metadata": {},
   "outputs": [],
   "source": [
    "average_bmi = df[\"INR\"].mean()\n",
    "\n",
    "# Fill null values in the \"bmi\" column with the calculated average\n",
    "df[\"INR\"].fillna(average_bmi, inplace=True)"
   ]
  },
  {
   "cell_type": "code",
   "execution_count": 38,
   "id": "8a029a38",
   "metadata": {},
   "outputs": [
    {
     "name": "stdout",
     "output_type": "stream",
     "text": [
      "Number of null values in the column 'INR': 0\n"
     ]
    }
   ],
   "source": [
    "null_count = df[\"INR\"].isnull().sum()\n",
    "\n",
    "print(\"Number of null values in the column 'INR':\", null_count)"
   ]
  },
  {
   "cell_type": "markdown",
   "id": "7e068661",
   "metadata": {},
   "source": [
    "# Creatine kinase"
   ]
  },
  {
   "cell_type": "code",
   "execution_count": 39,
   "id": "0e299bba",
   "metadata": {},
   "outputs": [
    {
     "name": "stdout",
     "output_type": "stream",
     "text": [
      "Number of null values in the column 'Creatine kinase': 162\n"
     ]
    }
   ],
   "source": [
    "null_count = df[\"Creatine kinase\"].isnull().sum()\n",
    "\n",
    "print(\"Number of null values in the column 'Creatine kinase':\", null_count)"
   ]
  },
  {
   "cell_type": "code",
   "execution_count": 40,
   "id": "1a0b45b0",
   "metadata": {},
   "outputs": [],
   "source": [
    "average_bmi = df[\"Creatine kinase\"].mean()\n",
    "\n",
    "# Fill null values in the \"bmi\" column with the calculated average\n",
    "df[\"Creatine kinase\"].fillna(average_bmi, inplace=True)"
   ]
  },
  {
   "cell_type": "code",
   "execution_count": 41,
   "id": "c73d82f9",
   "metadata": {},
   "outputs": [
    {
     "name": "stdout",
     "output_type": "stream",
     "text": [
      "Number of null values in the column 'Creatine kinase': 0\n"
     ]
    }
   ],
   "source": [
    "null_count = df[\"Creatine kinase\"].isnull().sum()\n",
    "\n",
    "print(\"Number of null values in the column 'Creatine kinase':\", null_count)"
   ]
  },
  {
   "cell_type": "code",
   "execution_count": 42,
   "id": "b64d4ef6",
   "metadata": {},
   "outputs": [
    {
     "name": "stdout",
     "output_type": "stream",
     "text": [
      "Columns with null values:\n",
      "glucose\n",
      "Blood calcium\n",
      "PH\n",
      "Lactic acid\n",
      "PCO2\n"
     ]
    }
   ],
   "source": [
    "# Check for null values in each column\n",
    "null_columns = df.columns[df.isnull().any()]\n",
    "\n",
    "# List down the columns with null values\n",
    "print(\"Columns with null values:\")\n",
    "for col in null_columns:\n",
    "    print(col)"
   ]
  },
  {
   "cell_type": "markdown",
   "id": "257ac834",
   "metadata": {},
   "source": [
    "# glucose"
   ]
  },
  {
   "cell_type": "code",
   "execution_count": 43,
   "id": "54a8c7bb",
   "metadata": {},
   "outputs": [
    {
     "name": "stdout",
     "output_type": "stream",
     "text": [
      "Number of null values in the column 'glucose': 7\n"
     ]
    }
   ],
   "source": [
    "null_count = df[\"glucose\"].isnull().sum()\n",
    "\n",
    "print(\"Number of null values in the column 'glucose':\", null_count)"
   ]
  },
  {
   "cell_type": "code",
   "execution_count": 44,
   "id": "2fe021bf",
   "metadata": {},
   "outputs": [],
   "source": [
    "average_bmi = df[\"glucose\"].mean()\n",
    "\n",
    "# Fill null values in the \"bmi\" column with the calculated average\n",
    "df[\"glucose\"].fillna(average_bmi, inplace=True)"
   ]
  },
  {
   "cell_type": "code",
   "execution_count": 45,
   "id": "c660e4eb",
   "metadata": {},
   "outputs": [
    {
     "name": "stdout",
     "output_type": "stream",
     "text": [
      "Number of null values in the column 'glucose': 0\n"
     ]
    }
   ],
   "source": [
    "null_count = df[\"glucose\"].isnull().sum()\n",
    "\n",
    "print(\"Number of null values in the column 'glucose':\", null_count)"
   ]
  },
  {
   "cell_type": "markdown",
   "id": "0d1e2299",
   "metadata": {},
   "source": [
    "# Blood calcium"
   ]
  },
  {
   "cell_type": "code",
   "execution_count": 46,
   "id": "c04c7410",
   "metadata": {},
   "outputs": [
    {
     "name": "stdout",
     "output_type": "stream",
     "text": [
      "Number of null values in the column 'Blood calcium': 1\n"
     ]
    }
   ],
   "source": [
    "null_count = df[\"Blood calcium\"].isnull().sum()\n",
    "\n",
    "print(\"Number of null values in the column 'Blood calcium':\", null_count)"
   ]
  },
  {
   "cell_type": "code",
   "execution_count": 47,
   "id": "2d81acd3",
   "metadata": {},
   "outputs": [
    {
     "name": "stdout",
     "output_type": "stream",
     "text": [
      "Number of null values in the column 'outcome': 0\n"
     ]
    }
   ],
   "source": [
    "df = df.dropna(subset=[\"outcome\"])\n",
    "null_count = df[\"outcome\"].isnull().sum()\n",
    "\n",
    "print(\"Number of null values in the column 'outcome':\", null_count)"
   ]
  },
  {
   "cell_type": "markdown",
   "id": "12c5ed60",
   "metadata": {},
   "source": [
    "# PH"
   ]
  },
  {
   "cell_type": "code",
   "execution_count": 48,
   "id": "1eae34c0",
   "metadata": {},
   "outputs": [
    {
     "name": "stdout",
     "output_type": "stream",
     "text": [
      "Number of null values in the column 'PH': 279\n"
     ]
    }
   ],
   "source": [
    "null_count = df[\"PH\"].isnull().sum()\n",
    "\n",
    "print(\"Number of null values in the column 'PH':\", null_count)"
   ]
  },
  {
   "cell_type": "code",
   "execution_count": 49,
   "id": "8cf61903",
   "metadata": {},
   "outputs": [],
   "source": [
    "average_bmi = df[\"PH\"].mean()\n",
    "\n",
    "# Fill null values in the \"bmi\" column with the calculated average\n",
    "df[\"PH\"].fillna(average_bmi, inplace=True)"
   ]
  },
  {
   "cell_type": "code",
   "execution_count": 50,
   "id": "823c1d7c",
   "metadata": {},
   "outputs": [
    {
     "name": "stdout",
     "output_type": "stream",
     "text": [
      "Number of null values in the column 'PH': 0\n"
     ]
    }
   ],
   "source": [
    "null_count = df[\"PH\"].isnull().sum()\n",
    "\n",
    "print(\"Number of null values in the column 'PH':\", null_count)"
   ]
  },
  {
   "cell_type": "markdown",
   "id": "e3285663",
   "metadata": {},
   "source": [
    "# Lactic acid"
   ]
  },
  {
   "cell_type": "code",
   "execution_count": 51,
   "id": "06200e0c",
   "metadata": {},
   "outputs": [
    {
     "name": "stdout",
     "output_type": "stream",
     "text": [
      "Number of null values in the column 'Lactic acid': 216\n"
     ]
    }
   ],
   "source": [
    "null_count = df[\"Lactic acid\"].isnull().sum()\n",
    "\n",
    "print(\"Number of null values in the column 'Lactic acid':\", null_count)"
   ]
  },
  {
   "cell_type": "code",
   "execution_count": 52,
   "id": "ef9f6ca1",
   "metadata": {},
   "outputs": [],
   "source": [
    "average_bmi = df[\"Lactic acid\"].mean()\n",
    "\n",
    "# Fill null values in the \"bmi\" column with the calculated average\n",
    "df[\"Lactic acid\"].fillna(average_bmi, inplace=True)"
   ]
  },
  {
   "cell_type": "code",
   "execution_count": 53,
   "id": "539771bc",
   "metadata": {},
   "outputs": [
    {
     "name": "stdout",
     "output_type": "stream",
     "text": [
      "Number of null values in the column 'Lactic acid': 0\n"
     ]
    }
   ],
   "source": [
    "null_count = df[\"Lactic acid\"].isnull().sum()\n",
    "\n",
    "print(\"Number of null values in the column 'Lactic acid':\", null_count)"
   ]
  },
  {
   "cell_type": "markdown",
   "id": "73c97360",
   "metadata": {},
   "source": [
    "# PCO2"
   ]
  },
  {
   "cell_type": "code",
   "execution_count": 54,
   "id": "70184f7f",
   "metadata": {},
   "outputs": [
    {
     "name": "stdout",
     "output_type": "stream",
     "text": [
      "Number of null values in the column 'PCO2': 286\n"
     ]
    }
   ],
   "source": [
    "null_count = df[\"PCO2\"].isnull().sum()\n",
    "\n",
    "print(\"Number of null values in the column 'PCO2':\", null_count)"
   ]
  },
  {
   "cell_type": "code",
   "execution_count": 55,
   "id": "87477237",
   "metadata": {},
   "outputs": [],
   "source": [
    "average_bmi = df[\"PCO2\"].mean()\n",
    "\n",
    "# Fill null values in the \"bmi\" column with the calculated average\n",
    "df[\"PCO2\"].fillna(average_bmi, inplace=True)"
   ]
  },
  {
   "cell_type": "code",
   "execution_count": 56,
   "id": "663bf153",
   "metadata": {},
   "outputs": [
    {
     "name": "stdout",
     "output_type": "stream",
     "text": [
      "Number of null values in the column 'PCO2': 0\n"
     ]
    }
   ],
   "source": [
    "null_count = df[\"PCO2\"].isnull().sum()\n",
    "\n",
    "print(\"Number of null values in the column 'PCO2':\", null_count)"
   ]
  },
  {
   "cell_type": "code",
   "execution_count": 57,
   "id": "3c73f596",
   "metadata": {},
   "outputs": [],
   "source": [
    "cols_to_remove = ['group', 'ID', 'outcome','age','gendera']  # Replace with the actual column names you want to remove\n",
    "\n",
    "# Remove the specified columns from the DataFrame\n",
    "df.drop(columns=cols_to_remove, inplace=True)"
   ]
  },
  {
   "cell_type": "code",
   "execution_count": 58,
   "id": "3b61ab24",
   "metadata": {},
   "outputs": [
    {
     "data": {
      "image/png": "[encoded data removed]",
      "text/plain": [
       "<Figure size 1080x1080 with 2 Axes>"
      ]
     },
     "metadata": {
      "needs_background": "light"
     },
     "output_type": "display_data"
    }
   ],
   "source": [
    "correlation_matrix = df.corr()\n",
    "\n",
    "# Plot the heatmap\n",
    "plt.figure(figsize=(15, 15))\n",
    "sns.heatmap(correlation_matrix, annot=False, cmap='coolwarm', fmt=\".2f\")\n",
    "plt.title('Correlation Matrix Heatmap')\n",
    "plt.show()"
   ]
  },
  {
   "cell_type": "code",
   "execution_count": 59,
   "id": "5f49af5a",
   "metadata": {},
   "outputs": [
    {
     "data": {
      "image/png": "[encoded data removed]",
      "text/plain": [
       "<Figure size 720x720 with 2 Axes>"
      ]
     },
     "metadata": {
      "needs_background": "light"
     },
     "output_type": "display_data"
    }
   ],
   "source": [
    "columns_subset = ['heart rate', 'Diastolic blood pressure','Systolic blood pressure','Respiratory rate','temperature','SP O2']  # Replace with the actual column names you want to include\n",
    "\n",
    "# Calculate the correlation matrix for the subset of columns\n",
    "correlation_matrix_subset = df[columns_subset].corr()\n",
    "\n",
    "# Plot the heatmap for the subset of columns\n",
    "plt.figure(figsize=(10, 10))\n",
    "sns.heatmap(correlation_matrix_subset, annot=True, cmap='coolwarm', fmt=\".2f\")\n",
    "plt.title('Correlation Matrix Heatmap for Subset of Columns')\n",
    "plt.show()"
   ]
  },
  {
   "cell_type": "code",
   "execution_count": 60,
   "id": "485db70f",
   "metadata": {},
   "outputs": [
    {
     "data": {
      "text/html": [
       "<div>\n",
       "<style scoped>\n",
       "    .dataframe tbody tr th:only-of-type {\n",
       "        vertical-align: middle;\n",
       "    }\n",
       "\n",
       "    .dataframe tbody tr th {\n",
       "        vertical-align: top;\n",
       "    }\n",
       "\n",
       "    .dataframe thead th {\n",
       "        text-align: right;\n",
       "    }\n",
       "</style>\n",
       "<table border=\"1\" class=\"dataframe\">\n",
       "  <thead>\n",
       "    <tr style=\"text-align: right;\">\n",
       "      <th></th>\n",
       "      <th>BMI</th>\n",
       "      <th>hypertensive</th>\n",
       "      <th>atrialfibrillation</th>\n",
       "      <th>CHD with no MI</th>\n",
       "      <th>diabetes</th>\n",
       "      <th>deficiencyanemias</th>\n",
       "      <th>depression</th>\n",
       "      <th>Hyperlipemia</th>\n",
       "      <th>Renal failure</th>\n",
       "      <th>COPD</th>\n",
       "      <th>...</th>\n",
       "      <th>Blood sodium</th>\n",
       "      <th>Blood calcium</th>\n",
       "      <th>Chloride</th>\n",
       "      <th>Anion gap</th>\n",
       "      <th>Magnesium ion</th>\n",
       "      <th>PH</th>\n",
       "      <th>Bicarbonate</th>\n",
       "      <th>Lactic acid</th>\n",
       "      <th>PCO2</th>\n",
       "      <th>EF</th>\n",
       "    </tr>\n",
       "  </thead>\n",
       "  <tbody>\n",
       "    <tr>\n",
       "      <th>0</th>\n",
       "      <td>37.588179</td>\n",
       "      <td>0</td>\n",
       "      <td>0</td>\n",
       "      <td>0</td>\n",
       "      <td>1</td>\n",
       "      <td>1</td>\n",
       "      <td>0</td>\n",
       "      <td>1</td>\n",
       "      <td>1</td>\n",
       "      <td>0</td>\n",
       "      <td>...</td>\n",
       "      <td>138.750000</td>\n",
       "      <td>7.463636</td>\n",
       "      <td>109.166667</td>\n",
       "      <td>13.166667</td>\n",
       "      <td>2.618182</td>\n",
       "      <td>7.230</td>\n",
       "      <td>21.166667</td>\n",
       "      <td>0.5</td>\n",
       "      <td>40.0</td>\n",
       "      <td>55</td>\n",
       "    </tr>\n",
       "    <tr>\n",
       "      <th>1</th>\n",
       "      <td>30.188278</td>\n",
       "      <td>0</td>\n",
       "      <td>0</td>\n",
       "      <td>0</td>\n",
       "      <td>0</td>\n",
       "      <td>1</td>\n",
       "      <td>0</td>\n",
       "      <td>0</td>\n",
       "      <td>0</td>\n",
       "      <td>1</td>\n",
       "      <td>...</td>\n",
       "      <td>138.888889</td>\n",
       "      <td>8.162500</td>\n",
       "      <td>98.444444</td>\n",
       "      <td>11.444444</td>\n",
       "      <td>1.887500</td>\n",
       "      <td>7.225</td>\n",
       "      <td>33.444444</td>\n",
       "      <td>0.5</td>\n",
       "      <td>78.0</td>\n",
       "      <td>55</td>\n",
       "    </tr>\n",
       "    <tr>\n",
       "      <th>2</th>\n",
       "      <td>26.572634</td>\n",
       "      <td>0</td>\n",
       "      <td>0</td>\n",
       "      <td>0</td>\n",
       "      <td>0</td>\n",
       "      <td>1</td>\n",
       "      <td>0</td>\n",
       "      <td>0</td>\n",
       "      <td>1</td>\n",
       "      <td>0</td>\n",
       "      <td>...</td>\n",
       "      <td>140.714286</td>\n",
       "      <td>8.266667</td>\n",
       "      <td>105.857143</td>\n",
       "      <td>10.000000</td>\n",
       "      <td>2.157143</td>\n",
       "      <td>7.268</td>\n",
       "      <td>30.571429</td>\n",
       "      <td>0.5</td>\n",
       "      <td>71.5</td>\n",
       "      <td>35</td>\n",
       "    </tr>\n",
       "    <tr>\n",
       "      <th>3</th>\n",
       "      <td>83.264629</td>\n",
       "      <td>0</td>\n",
       "      <td>0</td>\n",
       "      <td>0</td>\n",
       "      <td>0</td>\n",
       "      <td>0</td>\n",
       "      <td>0</td>\n",
       "      <td>0</td>\n",
       "      <td>0</td>\n",
       "      <td>0</td>\n",
       "      <td>...</td>\n",
       "      <td>138.500000</td>\n",
       "      <td>9.476923</td>\n",
       "      <td>92.071429</td>\n",
       "      <td>12.357143</td>\n",
       "      <td>1.942857</td>\n",
       "      <td>7.370</td>\n",
       "      <td>38.571429</td>\n",
       "      <td>0.6</td>\n",
       "      <td>75.0</td>\n",
       "      <td>55</td>\n",
       "    </tr>\n",
       "    <tr>\n",
       "      <th>4</th>\n",
       "      <td>31.824842</td>\n",
       "      <td>1</td>\n",
       "      <td>0</td>\n",
       "      <td>0</td>\n",
       "      <td>0</td>\n",
       "      <td>1</td>\n",
       "      <td>0</td>\n",
       "      <td>0</td>\n",
       "      <td>1</td>\n",
       "      <td>1</td>\n",
       "      <td>...</td>\n",
       "      <td>136.666667</td>\n",
       "      <td>8.733333</td>\n",
       "      <td>104.500000</td>\n",
       "      <td>15.166667</td>\n",
       "      <td>1.650000</td>\n",
       "      <td>7.250</td>\n",
       "      <td>22.000000</td>\n",
       "      <td>0.6</td>\n",
       "      <td>50.0</td>\n",
       "      <td>55</td>\n",
       "    </tr>\n",
       "  </tbody>\n",
       "</table>\n",
       "<p>5 rows × 46 columns</p>\n",
       "</div>"
      ],
      "text/plain": [
       "         BMI  hypertensive  atrialfibrillation  CHD with no MI  diabetes  \\\n",
       "0  37.588179             0                   0               0         1   \n",
       "1  30.188278             0                   0               0         0   \n",
       "2  26.572634             0                   0               0         0   \n",
       "3  83.264629             0                   0               0         0   \n",
       "4  31.824842             1                   0               0         0   \n",
       "\n",
       "   deficiencyanemias  depression  Hyperlipemia  Renal failure  COPD  ...  \\\n",
       "0                  1           0             1              1     0  ...   \n",
       "1                  1           0             0              0     1  ...   \n",
       "2                  1           0             0              1     0  ...   \n",
       "3                  0           0             0              0     0  ...   \n",
       "4                  1           0             0              1     1  ...   \n",
       "\n",
       "   Blood sodium  Blood calcium    Chloride  Anion gap  Magnesium ion     PH  \\\n",
       "0    138.750000       7.463636  109.166667  13.166667       2.618182  7.230   \n",
       "1    138.888889       8.162500   98.444444  11.444444       1.887500  7.225   \n",
       "2    140.714286       8.266667  105.857143  10.000000       2.157143  7.268   \n",
       "3    138.500000       9.476923   92.071429  12.357143       1.942857  7.370   \n",
       "4    136.666667       8.733333  104.500000  15.166667       1.650000  7.250   \n",
       "\n",
       "   Bicarbonate  Lactic acid  PCO2  EF  \n",
       "0    21.166667          0.5  40.0  55  \n",
       "1    33.444444          0.5  78.0  55  \n",
       "2    30.571429          0.5  71.5  35  \n",
       "3    38.571429          0.6  75.0  55  \n",
       "4    22.000000          0.6  50.0  55  \n",
       "\n",
       "[5 rows x 46 columns]"
      ]
     },
     "execution_count": 60,
     "metadata": {},
     "output_type": "execute_result"
    }
   ],
   "source": [
    "df.head()"
   ]
  },
  {
   "cell_type": "code",
   "execution_count": 61,
   "id": "87595f9a",
   "metadata": {},
   "outputs": [],
   "source": [
    "columns_list = ['heart rate', 'Diastolic blood pressure','Systolic blood pressure','Respiratory rate','temperature','SP O2']  # Specify the columns you want\n",
    "\n",
    "# Create df1 with only the specified columns from df\n",
    "df1 = df[columns_list].copy()"
   ]
  },
  {
   "cell_type": "code",
   "execution_count": 62,
   "id": "7d994057",
   "metadata": {},
   "outputs": [
    {
     "data": {
      "text/html": [
       "<div>\n",
       "<style scoped>\n",
       "    .dataframe tbody tr th:only-of-type {\n",
       "        vertical-align: middle;\n",
       "    }\n",
       "\n",
       "    .dataframe tbody tr th {\n",
       "        vertical-align: top;\n",
       "    }\n",
       "\n",
       "    .dataframe thead th {\n",
       "        text-align: right;\n",
       "    }\n",
       "</style>\n",
       "<table border=\"1\" class=\"dataframe\">\n",
       "  <thead>\n",
       "    <tr style=\"text-align: right;\">\n",
       "      <th></th>\n",
       "      <th>heart rate</th>\n",
       "      <th>Diastolic blood pressure</th>\n",
       "      <th>Systolic blood pressure</th>\n",
       "      <th>Respiratory rate</th>\n",
       "      <th>temperature</th>\n",
       "      <th>SP O2</th>\n",
       "    </tr>\n",
       "  </thead>\n",
       "  <tbody>\n",
       "    <tr>\n",
       "      <th>0</th>\n",
       "      <td>68.837838</td>\n",
       "      <td>68.333333</td>\n",
       "      <td>155.866667</td>\n",
       "      <td>16.621622</td>\n",
       "      <td>36.714286</td>\n",
       "      <td>98.394737</td>\n",
       "    </tr>\n",
       "    <tr>\n",
       "      <th>1</th>\n",
       "      <td>101.370370</td>\n",
       "      <td>65.000000</td>\n",
       "      <td>140.000000</td>\n",
       "      <td>20.851852</td>\n",
       "      <td>36.682540</td>\n",
       "      <td>96.923077</td>\n",
       "    </tr>\n",
       "    <tr>\n",
       "      <th>2</th>\n",
       "      <td>72.318182</td>\n",
       "      <td>61.375000</td>\n",
       "      <td>135.333333</td>\n",
       "      <td>23.640000</td>\n",
       "      <td>36.453704</td>\n",
       "      <td>95.291667</td>\n",
       "    </tr>\n",
       "    <tr>\n",
       "      <th>3</th>\n",
       "      <td>94.500000</td>\n",
       "      <td>73.200000</td>\n",
       "      <td>126.400000</td>\n",
       "      <td>21.857143</td>\n",
       "      <td>36.287037</td>\n",
       "      <td>93.846154</td>\n",
       "    </tr>\n",
       "    <tr>\n",
       "      <th>4</th>\n",
       "      <td>67.920000</td>\n",
       "      <td>58.120000</td>\n",
       "      <td>156.560000</td>\n",
       "      <td>21.360000</td>\n",
       "      <td>36.761905</td>\n",
       "      <td>99.280000</td>\n",
       "    </tr>\n",
       "  </tbody>\n",
       "</table>\n",
       "</div>"
      ],
      "text/plain": [
       "   heart rate  Diastolic blood pressure  Systolic blood pressure  \\\n",
       "0   68.837838                 68.333333               155.866667   \n",
       "1  101.370370                 65.000000               140.000000   \n",
       "2   72.318182                 61.375000               135.333333   \n",
       "3   94.500000                 73.200000               126.400000   \n",
       "4   67.920000                 58.120000               156.560000   \n",
       "\n",
       "   Respiratory rate  temperature      SP O2  \n",
       "0         16.621622    36.714286  98.394737  \n",
       "1         20.851852    36.682540  96.923077  \n",
       "2         23.640000    36.453704  95.291667  \n",
       "3         21.857143    36.287037  93.846154  \n",
       "4         21.360000    36.761905  99.280000  "
      ]
     },
     "execution_count": 62,
     "metadata": {},
     "output_type": "execute_result"
    }
   ],
   "source": [
    "df1.head()"
   ]
  },
  {
   "cell_type": "markdown",
   "id": "e12da6bc",
   "metadata": {},
   "source": [
    "fitting various models to only those 5 parameters"
   ]
  },
  {
   "cell_type": "code",
   "execution_count": 63,
   "id": "e3dbb3f8",
   "metadata": {},
   "outputs": [],
   "source": [
    "from sklearn.model_selection import train_test_split\n",
    "\n",
    "# Assuming df1 is your DataFrame\n",
    "\n",
    "# Split df1 into features (X) and target variable (y)\n",
    "X = df1[['heart rate', 'Diastolic blood pressure', 'Systolic blood pressure', 'temperature', 'SP O2']]\n",
    "y = df1['Respiratory rate']\n",
    "\n",
    "# Split the dataset into training and test sets (80% train, 20% test)\n",
    "X_train, X_test, y_train, y_test = train_test_split(X, y, test_size=0.2, random_state=42)\n",
    "\n",
    "# Now you have X_train, X_test, y_train, y_test ready for training and testing your model\n"
   ]
  },
  {
   "cell_type": "code",
   "execution_count": 64,
   "id": "e41d9552",
   "metadata": {},
   "outputs": [],
   "source": [
    "from sklearn.preprocessing import MinMaxScaler\n",
    "\n",
    "# Initialize the MinMaxScaler\n",
    "scaler = MinMaxScaler()\n",
    "\n",
    "# Fit the scaler on the training features and transform them\n",
    "X_train_normalized = scaler.fit_transform(X_train)\n",
    "\n",
    "# Transform the test features using the scaler fitted on the training data\n",
    "X_test_normalized = scaler.transform(X_test)\n"
   ]
  },
  {
   "cell_type": "code",
   "execution_count": 65,
   "id": "2cbaf89d",
   "metadata": {},
   "outputs": [
    {
     "name": "stdout",
     "output_type": "stream",
     "text": [
      "Mean Squared Error: 15.90573408511524\n"
     ]
    },
    {
     "name": "stderr",
     "output_type": "stream",
     "text": [
      "c:\\users\\rosha\\appdata\\local\\programs\\python\\python37\\lib\\site-packages\\sklearn\\neural_network\\multilayer_perceptron.py:566: ConvergenceWarning: Stochastic Optimizer: Maximum iterations (200) reached and the optimization hasn't converged yet.\n",
      "  % self.max_iter, ConvergenceWarning)\n"
     ]
    }
   ],
   "source": [
    "from sklearn.neural_network import MLPRegressor\n",
    "from sklearn.metrics import mean_squared_error\n",
    "\n",
    "# Initialize the MLPRegressor\n",
    "neural_network_model = MLPRegressor(random_state=42)\n",
    "\n",
    "# Train the model on the normalized training data\n",
    "neural_network_model.fit(X_train_normalized, y_train)\n",
    "\n",
    "# Make predictions on the normalized test data\n",
    "y_pred = neural_network_model.predict(X_test_normalized)\n",
    "\n",
    "# Evaluate the model using Mean Squared Error\n",
    "mse = mean_squared_error(y_test, y_pred)\n",
    "print(\"Mean Squared Error:\", mse)\n"
   ]
  },
  {
   "cell_type": "code",
   "execution_count": 66,
   "id": "a3781297",
   "metadata": {},
   "outputs": [
    {
     "name": "stdout",
     "output_type": "stream",
     "text": [
      "Mean Squared Error: 12.606596593208451\n"
     ]
    },
    {
     "name": "stderr",
     "output_type": "stream",
     "text": [
      "c:\\users\\rosha\\appdata\\local\\programs\\python\\python37\\lib\\site-packages\\sklearn\\neural_network\\multilayer_perceptron.py:566: ConvergenceWarning: Stochastic Optimizer: Maximum iterations (200) reached and the optimization hasn't converged yet.\n",
      "  % self.max_iter, ConvergenceWarning)\n"
     ]
    }
   ],
   "source": [
    "from sklearn.neural_network import MLPRegressor\n",
    "from sklearn.metrics import mean_squared_error\n",
    "\n",
    "# Initialize the MLPRegressor with optimized hyperparameters\n",
    "neural_network_model = MLPRegressor(hidden_layer_sizes=(100, 100), activation='relu', alpha=0.01, learning_rate_init=0.001, random_state=42)\n",
    "\n",
    "# Train the model on the normalized training data\n",
    "neural_network_model.fit(X_train_normalized, y_train)\n",
    "\n",
    "# Make predictions on the normalized test data\n",
    "y_pred = neural_network_model.predict(X_test_normalized)\n",
    "\n",
    "# Evaluate the model using Mean Squared Error\n",
    "mse = mean_squared_error(y_test, y_pred)\n",
    "print(\"Mean Squared Error:\", mse)\n"
   ]
  },
  {
   "cell_type": "code",
   "execution_count": 70,
   "id": "05affdbf",
   "metadata": {},
   "outputs": [
    {
     "name": "stdout",
     "output_type": "stream",
     "text": [
      "Mean Squared Error: 12.651588968567253\n"
     ]
    },
    {
     "name": "stderr",
     "output_type": "stream",
     "text": [
      "c:\\users\\rosha\\appdata\\local\\programs\\python\\python37\\lib\\site-packages\\sklearn\\neural_network\\multilayer_perceptron.py:566: ConvergenceWarning: Stochastic Optimizer: Maximum iterations (200) reached and the optimization hasn't converged yet.\n",
      "  % self.max_iter, ConvergenceWarning)\n"
     ]
    }
   ],
   "source": [
    "from sklearn.neural_network import MLPRegressor\n",
    "from sklearn.metrics import mean_squared_error\n",
    "\n",
    "# Initialize the MLPRegressor with different alpha values\n",
    "neural_network_model = MLPRegressor(hidden_layer_sizes=(100, 100), activation='relu', alpha=0.0001, learning_rate_init=0.001, random_state=42)\n",
    "\n",
    "# Train the model on the normalized training data\n",
    "neural_network_model.fit(X_train_normalized, y_train)\n",
    "\n",
    "# Make predictions on the normalized test data\n",
    "y_pred = neural_network_model.predict(X_test_normalized)\n",
    "\n",
    "# Evaluate the model using Mean Squared Error\n",
    "mse = mean_squared_error(y_test, y_pred)\n",
    "print(\"Mean Squared Error:\", mse)\n"
   ]
  },
  {
   "cell_type": "code",
   "execution_count": 71,
   "id": "23a69e37",
   "metadata": {},
   "outputs": [
    {
     "name": "stderr",
     "output_type": "stream",
     "text": [
      "c:\\users\\rosha\\appdata\\local\\programs\\python\\python37\\lib\\site-packages\\sklearn\\neural_network\\multilayer_perceptron.py:566: ConvergenceWarning: Stochastic Optimizer: Maximum iterations (200) reached and the optimization hasn't converged yet.\n",
      "  % self.max_iter, ConvergenceWarning)\n",
      "c:\\users\\rosha\\appdata\\local\\programs\\python\\python37\\lib\\site-packages\\sklearn\\neural_network\\multilayer_perceptron.py:566: ConvergenceWarning: Stochastic Optimizer: Maximum iterations (200) reached and the optimization hasn't converged yet.\n",
      "  % self.max_iter, ConvergenceWarning)\n",
      "c:\\users\\rosha\\appdata\\local\\programs\\python\\python37\\lib\\site-packages\\sklearn\\neural_network\\multilayer_perceptron.py:566: ConvergenceWarning: Stochastic Optimizer: Maximum iterations (200) reached and the optimization hasn't converged yet.\n",
      "  % self.max_iter, ConvergenceWarning)\n",
      "c:\\users\\rosha\\appdata\\local\\programs\\python\\python37\\lib\\site-packages\\sklearn\\neural_network\\multilayer_perceptron.py:566: ConvergenceWarning: Stochastic Optimizer: Maximum iterations (200) reached and the optimization hasn't converged yet.\n",
      "  % self.max_iter, ConvergenceWarning)\n",
      "c:\\users\\rosha\\appdata\\local\\programs\\python\\python37\\lib\\site-packages\\sklearn\\neural_network\\multilayer_perceptron.py:566: ConvergenceWarning: Stochastic Optimizer: Maximum iterations (200) reached and the optimization hasn't converged yet.\n",
      "  % self.max_iter, ConvergenceWarning)\n",
      "c:\\users\\rosha\\appdata\\local\\programs\\python\\python37\\lib\\site-packages\\sklearn\\neural_network\\multilayer_perceptron.py:566: ConvergenceWarning: Stochastic Optimizer: Maximum iterations (200) reached and the optimization hasn't converged yet.\n",
      "  % self.max_iter, ConvergenceWarning)\n",
      "c:\\users\\rosha\\appdata\\local\\programs\\python\\python37\\lib\\site-packages\\sklearn\\neural_network\\multilayer_perceptron.py:566: ConvergenceWarning: Stochastic Optimizer: Maximum iterations (200) reached and the optimization hasn't converged yet.\n",
      "  % self.max_iter, ConvergenceWarning)\n",
      "c:\\users\\rosha\\appdata\\local\\programs\\python\\python37\\lib\\site-packages\\sklearn\\neural_network\\multilayer_perceptron.py:566: ConvergenceWarning: Stochastic Optimizer: Maximum iterations (200) reached and the optimization hasn't converged yet.\n",
      "  % self.max_iter, ConvergenceWarning)\n",
      "c:\\users\\rosha\\appdata\\local\\programs\\python\\python37\\lib\\site-packages\\sklearn\\neural_network\\multilayer_perceptron.py:566: ConvergenceWarning: Stochastic Optimizer: Maximum iterations (200) reached and the optimization hasn't converged yet.\n",
      "  % self.max_iter, ConvergenceWarning)\n",
      "c:\\users\\rosha\\appdata\\local\\programs\\python\\python37\\lib\\site-packages\\sklearn\\neural_network\\multilayer_perceptron.py:566: ConvergenceWarning: Stochastic Optimizer: Maximum iterations (200) reached and the optimization hasn't converged yet.\n",
      "  % self.max_iter, ConvergenceWarning)\n",
      "c:\\users\\rosha\\appdata\\local\\programs\\python\\python37\\lib\\site-packages\\sklearn\\neural_network\\multilayer_perceptron.py:566: ConvergenceWarning: Stochastic Optimizer: Maximum iterations (200) reached and the optimization hasn't converged yet.\n",
      "  % self.max_iter, ConvergenceWarning)\n",
      "c:\\users\\rosha\\appdata\\local\\programs\\python\\python37\\lib\\site-packages\\sklearn\\neural_network\\multilayer_perceptron.py:566: ConvergenceWarning: Stochastic Optimizer: Maximum iterations (200) reached and the optimization hasn't converged yet.\n",
      "  % self.max_iter, ConvergenceWarning)\n",
      "c:\\users\\rosha\\appdata\\local\\programs\\python\\python37\\lib\\site-packages\\sklearn\\neural_network\\multilayer_perceptron.py:566: ConvergenceWarning: Stochastic Optimizer: Maximum iterations (200) reached and the optimization hasn't converged yet.\n",
      "  % self.max_iter, ConvergenceWarning)\n",
      "c:\\users\\rosha\\appdata\\local\\programs\\python\\python37\\lib\\site-packages\\sklearn\\neural_network\\multilayer_perceptron.py:566: ConvergenceWarning: Stochastic Optimizer: Maximum iterations (200) reached and the optimization hasn't converged yet.\n",
      "  % self.max_iter, ConvergenceWarning)\n",
      "c:\\users\\rosha\\appdata\\local\\programs\\python\\python37\\lib\\site-packages\\sklearn\\neural_network\\multilayer_perceptron.py:566: ConvergenceWarning: Stochastic Optimizer: Maximum iterations (200) reached and the optimization hasn't converged yet.\n",
      "  % self.max_iter, ConvergenceWarning)\n",
      "c:\\users\\rosha\\appdata\\local\\programs\\python\\python37\\lib\\site-packages\\sklearn\\neural_network\\multilayer_perceptron.py:566: ConvergenceWarning: Stochastic Optimizer: Maximum iterations (200) reached and the optimization hasn't converged yet.\n",
      "  % self.max_iter, ConvergenceWarning)\n",
      "c:\\users\\rosha\\appdata\\local\\programs\\python\\python37\\lib\\site-packages\\sklearn\\neural_network\\multilayer_perceptron.py:566: ConvergenceWarning: Stochastic Optimizer: Maximum iterations (200) reached and the optimization hasn't converged yet.\n",
      "  % self.max_iter, ConvergenceWarning)\n",
      "c:\\users\\rosha\\appdata\\local\\programs\\python\\python37\\lib\\site-packages\\sklearn\\neural_network\\multilayer_perceptron.py:566: ConvergenceWarning: Stochastic Optimizer: Maximum iterations (200) reached and the optimization hasn't converged yet.\n",
      "  % self.max_iter, ConvergenceWarning)\n",
      "c:\\users\\rosha\\appdata\\local\\programs\\python\\python37\\lib\\site-packages\\sklearn\\neural_network\\multilayer_perceptron.py:566: ConvergenceWarning: Stochastic Optimizer: Maximum iterations (200) reached and the optimization hasn't converged yet.\n",
      "  % self.max_iter, ConvergenceWarning)\n",
      "c:\\users\\rosha\\appdata\\local\\programs\\python\\python37\\lib\\site-packages\\sklearn\\neural_network\\multilayer_perceptron.py:566: ConvergenceWarning: Stochastic Optimizer: Maximum iterations (200) reached and the optimization hasn't converged yet.\n",
      "  % self.max_iter, ConvergenceWarning)\n",
      "c:\\users\\rosha\\appdata\\local\\programs\\python\\python37\\lib\\site-packages\\sklearn\\neural_network\\multilayer_perceptron.py:566: ConvergenceWarning: Stochastic Optimizer: Maximum iterations (200) reached and the optimization hasn't converged yet.\n",
      "  % self.max_iter, ConvergenceWarning)\n",
      "c:\\users\\rosha\\appdata\\local\\programs\\python\\python37\\lib\\site-packages\\sklearn\\neural_network\\multilayer_perceptron.py:566: ConvergenceWarning: Stochastic Optimizer: Maximum iterations (200) reached and the optimization hasn't converged yet.\n",
      "  % self.max_iter, ConvergenceWarning)\n",
      "c:\\users\\rosha\\appdata\\local\\programs\\python\\python37\\lib\\site-packages\\sklearn\\neural_network\\multilayer_perceptron.py:566: ConvergenceWarning: Stochastic Optimizer: Maximum iterations (200) reached and the optimization hasn't converged yet.\n",
      "  % self.max_iter, ConvergenceWarning)\n",
      "c:\\users\\rosha\\appdata\\local\\programs\\python\\python37\\lib\\site-packages\\sklearn\\neural_network\\multilayer_perceptron.py:566: ConvergenceWarning: Stochastic Optimizer: Maximum iterations (200) reached and the optimization hasn't converged yet.\n",
      "  % self.max_iter, ConvergenceWarning)\n",
      "c:\\users\\rosha\\appdata\\local\\programs\\python\\python37\\lib\\site-packages\\sklearn\\neural_network\\multilayer_perceptron.py:566: ConvergenceWarning: Stochastic Optimizer: Maximum iterations (200) reached and the optimization hasn't converged yet.\n",
      "  % self.max_iter, ConvergenceWarning)\n",
      "c:\\users\\rosha\\appdata\\local\\programs\\python\\python37\\lib\\site-packages\\sklearn\\neural_network\\multilayer_perceptron.py:566: ConvergenceWarning: Stochastic Optimizer: Maximum iterations (200) reached and the optimization hasn't converged yet.\n",
      "  % self.max_iter, ConvergenceWarning)\n",
      "c:\\users\\rosha\\appdata\\local\\programs\\python\\python37\\lib\\site-packages\\sklearn\\neural_network\\multilayer_perceptron.py:566: ConvergenceWarning: Stochastic Optimizer: Maximum iterations (200) reached and the optimization hasn't converged yet.\n",
      "  % self.max_iter, ConvergenceWarning)\n",
      "c:\\users\\rosha\\appdata\\local\\programs\\python\\python37\\lib\\site-packages\\sklearn\\neural_network\\multilayer_perceptron.py:566: ConvergenceWarning: Stochastic Optimizer: Maximum iterations (200) reached and the optimization hasn't converged yet.\n",
      "  % self.max_iter, ConvergenceWarning)\n",
      "c:\\users\\rosha\\appdata\\local\\programs\\python\\python37\\lib\\site-packages\\sklearn\\neural_network\\multilayer_perceptron.py:566: ConvergenceWarning: Stochastic Optimizer: Maximum iterations (200) reached and the optimization hasn't converged yet.\n",
      "  % self.max_iter, ConvergenceWarning)\n",
      "c:\\users\\rosha\\appdata\\local\\programs\\python\\python37\\lib\\site-packages\\sklearn\\neural_network\\multilayer_perceptron.py:566: ConvergenceWarning: Stochastic Optimizer: Maximum iterations (200) reached and the optimization hasn't converged yet.\n",
      "  % self.max_iter, ConvergenceWarning)\n"
     ]
    },
    {
     "name": "stderr",
     "output_type": "stream",
     "text": [
      "c:\\users\\rosha\\appdata\\local\\programs\\python\\python37\\lib\\site-packages\\sklearn\\neural_network\\multilayer_perceptron.py:566: ConvergenceWarning: Stochastic Optimizer: Maximum iterations (200) reached and the optimization hasn't converged yet.\n",
      "  % self.max_iter, ConvergenceWarning)\n",
      "c:\\users\\rosha\\appdata\\local\\programs\\python\\python37\\lib\\site-packages\\sklearn\\neural_network\\multilayer_perceptron.py:566: ConvergenceWarning: Stochastic Optimizer: Maximum iterations (200) reached and the optimization hasn't converged yet.\n",
      "  % self.max_iter, ConvergenceWarning)\n",
      "c:\\users\\rosha\\appdata\\local\\programs\\python\\python37\\lib\\site-packages\\sklearn\\neural_network\\multilayer_perceptron.py:566: ConvergenceWarning: Stochastic Optimizer: Maximum iterations (200) reached and the optimization hasn't converged yet.\n",
      "  % self.max_iter, ConvergenceWarning)\n",
      "c:\\users\\rosha\\appdata\\local\\programs\\python\\python37\\lib\\site-packages\\sklearn\\neural_network\\multilayer_perceptron.py:566: ConvergenceWarning: Stochastic Optimizer: Maximum iterations (200) reached and the optimization hasn't converged yet.\n",
      "  % self.max_iter, ConvergenceWarning)\n",
      "c:\\users\\rosha\\appdata\\local\\programs\\python\\python37\\lib\\site-packages\\sklearn\\neural_network\\multilayer_perceptron.py:566: ConvergenceWarning: Stochastic Optimizer: Maximum iterations (200) reached and the optimization hasn't converged yet.\n",
      "  % self.max_iter, ConvergenceWarning)\n",
      "c:\\users\\rosha\\appdata\\local\\programs\\python\\python37\\lib\\site-packages\\sklearn\\neural_network\\multilayer_perceptron.py:566: ConvergenceWarning: Stochastic Optimizer: Maximum iterations (200) reached and the optimization hasn't converged yet.\n",
      "  % self.max_iter, ConvergenceWarning)\n",
      "c:\\users\\rosha\\appdata\\local\\programs\\python\\python37\\lib\\site-packages\\sklearn\\neural_network\\multilayer_perceptron.py:566: ConvergenceWarning: Stochastic Optimizer: Maximum iterations (200) reached and the optimization hasn't converged yet.\n",
      "  % self.max_iter, ConvergenceWarning)\n",
      "c:\\users\\rosha\\appdata\\local\\programs\\python\\python37\\lib\\site-packages\\sklearn\\neural_network\\multilayer_perceptron.py:566: ConvergenceWarning: Stochastic Optimizer: Maximum iterations (200) reached and the optimization hasn't converged yet.\n",
      "  % self.max_iter, ConvergenceWarning)\n",
      "c:\\users\\rosha\\appdata\\local\\programs\\python\\python37\\lib\\site-packages\\sklearn\\neural_network\\multilayer_perceptron.py:566: ConvergenceWarning: Stochastic Optimizer: Maximum iterations (200) reached and the optimization hasn't converged yet.\n",
      "  % self.max_iter, ConvergenceWarning)\n",
      "c:\\users\\rosha\\appdata\\local\\programs\\python\\python37\\lib\\site-packages\\sklearn\\neural_network\\multilayer_perceptron.py:566: ConvergenceWarning: Stochastic Optimizer: Maximum iterations (200) reached and the optimization hasn't converged yet.\n",
      "  % self.max_iter, ConvergenceWarning)\n",
      "c:\\users\\rosha\\appdata\\local\\programs\\python\\python37\\lib\\site-packages\\sklearn\\neural_network\\multilayer_perceptron.py:566: ConvergenceWarning: Stochastic Optimizer: Maximum iterations (200) reached and the optimization hasn't converged yet.\n",
      "  % self.max_iter, ConvergenceWarning)\n",
      "c:\\users\\rosha\\appdata\\local\\programs\\python\\python37\\lib\\site-packages\\sklearn\\neural_network\\multilayer_perceptron.py:566: ConvergenceWarning: Stochastic Optimizer: Maximum iterations (200) reached and the optimization hasn't converged yet.\n",
      "  % self.max_iter, ConvergenceWarning)\n",
      "c:\\users\\rosha\\appdata\\local\\programs\\python\\python37\\lib\\site-packages\\sklearn\\neural_network\\multilayer_perceptron.py:566: ConvergenceWarning: Stochastic Optimizer: Maximum iterations (200) reached and the optimization hasn't converged yet.\n",
      "  % self.max_iter, ConvergenceWarning)\n",
      "c:\\users\\rosha\\appdata\\local\\programs\\python\\python37\\lib\\site-packages\\sklearn\\neural_network\\multilayer_perceptron.py:566: ConvergenceWarning: Stochastic Optimizer: Maximum iterations (200) reached and the optimization hasn't converged yet.\n",
      "  % self.max_iter, ConvergenceWarning)\n",
      "c:\\users\\rosha\\appdata\\local\\programs\\python\\python37\\lib\\site-packages\\sklearn\\neural_network\\multilayer_perceptron.py:566: ConvergenceWarning: Stochastic Optimizer: Maximum iterations (200) reached and the optimization hasn't converged yet.\n",
      "  % self.max_iter, ConvergenceWarning)\n",
      "c:\\users\\rosha\\appdata\\local\\programs\\python\\python37\\lib\\site-packages\\sklearn\\neural_network\\multilayer_perceptron.py:566: ConvergenceWarning: Stochastic Optimizer: Maximum iterations (200) reached and the optimization hasn't converged yet.\n",
      "  % self.max_iter, ConvergenceWarning)\n",
      "c:\\users\\rosha\\appdata\\local\\programs\\python\\python37\\lib\\site-packages\\sklearn\\neural_network\\multilayer_perceptron.py:566: ConvergenceWarning: Stochastic Optimizer: Maximum iterations (200) reached and the optimization hasn't converged yet.\n",
      "  % self.max_iter, ConvergenceWarning)\n",
      "c:\\users\\rosha\\appdata\\local\\programs\\python\\python37\\lib\\site-packages\\sklearn\\neural_network\\multilayer_perceptron.py:566: ConvergenceWarning: Stochastic Optimizer: Maximum iterations (200) reached and the optimization hasn't converged yet.\n",
      "  % self.max_iter, ConvergenceWarning)\n",
      "c:\\users\\rosha\\appdata\\local\\programs\\python\\python37\\lib\\site-packages\\sklearn\\neural_network\\multilayer_perceptron.py:566: ConvergenceWarning: Stochastic Optimizer: Maximum iterations (200) reached and the optimization hasn't converged yet.\n",
      "  % self.max_iter, ConvergenceWarning)\n",
      "c:\\users\\rosha\\appdata\\local\\programs\\python\\python37\\lib\\site-packages\\sklearn\\neural_network\\multilayer_perceptron.py:566: ConvergenceWarning: Stochastic Optimizer: Maximum iterations (200) reached and the optimization hasn't converged yet.\n",
      "  % self.max_iter, ConvergenceWarning)\n",
      "c:\\users\\rosha\\appdata\\local\\programs\\python\\python37\\lib\\site-packages\\sklearn\\neural_network\\multilayer_perceptron.py:566: ConvergenceWarning: Stochastic Optimizer: Maximum iterations (200) reached and the optimization hasn't converged yet.\n",
      "  % self.max_iter, ConvergenceWarning)\n",
      "c:\\users\\rosha\\appdata\\local\\programs\\python\\python37\\lib\\site-packages\\sklearn\\neural_network\\multilayer_perceptron.py:566: ConvergenceWarning: Stochastic Optimizer: Maximum iterations (200) reached and the optimization hasn't converged yet.\n",
      "  % self.max_iter, ConvergenceWarning)\n",
      "c:\\users\\rosha\\appdata\\local\\programs\\python\\python37\\lib\\site-packages\\sklearn\\neural_network\\multilayer_perceptron.py:566: ConvergenceWarning: Stochastic Optimizer: Maximum iterations (200) reached and the optimization hasn't converged yet.\n",
      "  % self.max_iter, ConvergenceWarning)\n",
      "c:\\users\\rosha\\appdata\\local\\programs\\python\\python37\\lib\\site-packages\\sklearn\\neural_network\\multilayer_perceptron.py:566: ConvergenceWarning: Stochastic Optimizer: Maximum iterations (200) reached and the optimization hasn't converged yet.\n",
      "  % self.max_iter, ConvergenceWarning)\n",
      "c:\\users\\rosha\\appdata\\local\\programs\\python\\python37\\lib\\site-packages\\sklearn\\neural_network\\multilayer_perceptron.py:566: ConvergenceWarning: Stochastic Optimizer: Maximum iterations (200) reached and the optimization hasn't converged yet.\n",
      "  % self.max_iter, ConvergenceWarning)\n",
      "c:\\users\\rosha\\appdata\\local\\programs\\python\\python37\\lib\\site-packages\\sklearn\\neural_network\\multilayer_perceptron.py:566: ConvergenceWarning: Stochastic Optimizer: Maximum iterations (200) reached and the optimization hasn't converged yet.\n",
      "  % self.max_iter, ConvergenceWarning)\n",
      "c:\\users\\rosha\\appdata\\local\\programs\\python\\python37\\lib\\site-packages\\sklearn\\neural_network\\multilayer_perceptron.py:566: ConvergenceWarning: Stochastic Optimizer: Maximum iterations (200) reached and the optimization hasn't converged yet.\n",
      "  % self.max_iter, ConvergenceWarning)\n",
      "c:\\users\\rosha\\appdata\\local\\programs\\python\\python37\\lib\\site-packages\\sklearn\\neural_network\\multilayer_perceptron.py:566: ConvergenceWarning: Stochastic Optimizer: Maximum iterations (200) reached and the optimization hasn't converged yet.\n",
      "  % self.max_iter, ConvergenceWarning)\n",
      "c:\\users\\rosha\\appdata\\local\\programs\\python\\python37\\lib\\site-packages\\sklearn\\neural_network\\multilayer_perceptron.py:566: ConvergenceWarning: Stochastic Optimizer: Maximum iterations (200) reached and the optimization hasn't converged yet.\n",
      "  % self.max_iter, ConvergenceWarning)\n",
      "c:\\users\\rosha\\appdata\\local\\programs\\python\\python37\\lib\\site-packages\\sklearn\\neural_network\\multilayer_perceptron.py:566: ConvergenceWarning: Stochastic Optimizer: Maximum iterations (200) reached and the optimization hasn't converged yet.\n",
      "  % self.max_iter, ConvergenceWarning)\n"
     ]
    },
    {
     "name": "stderr",
     "output_type": "stream",
     "text": [
      "c:\\users\\rosha\\appdata\\local\\programs\\python\\python37\\lib\\site-packages\\sklearn\\neural_network\\multilayer_perceptron.py:566: ConvergenceWarning: Stochastic Optimizer: Maximum iterations (200) reached and the optimization hasn't converged yet.\n",
      "  % self.max_iter, ConvergenceWarning)\n",
      "c:\\users\\rosha\\appdata\\local\\programs\\python\\python37\\lib\\site-packages\\sklearn\\neural_network\\multilayer_perceptron.py:566: ConvergenceWarning: Stochastic Optimizer: Maximum iterations (200) reached and the optimization hasn't converged yet.\n",
      "  % self.max_iter, ConvergenceWarning)\n",
      "c:\\users\\rosha\\appdata\\local\\programs\\python\\python37\\lib\\site-packages\\sklearn\\neural_network\\multilayer_perceptron.py:566: ConvergenceWarning: Stochastic Optimizer: Maximum iterations (200) reached and the optimization hasn't converged yet.\n",
      "  % self.max_iter, ConvergenceWarning)\n",
      "c:\\users\\rosha\\appdata\\local\\programs\\python\\python37\\lib\\site-packages\\sklearn\\neural_network\\multilayer_perceptron.py:566: ConvergenceWarning: Stochastic Optimizer: Maximum iterations (200) reached and the optimization hasn't converged yet.\n",
      "  % self.max_iter, ConvergenceWarning)\n",
      "c:\\users\\rosha\\appdata\\local\\programs\\python\\python37\\lib\\site-packages\\sklearn\\neural_network\\multilayer_perceptron.py:566: ConvergenceWarning: Stochastic Optimizer: Maximum iterations (200) reached and the optimization hasn't converged yet.\n",
      "  % self.max_iter, ConvergenceWarning)\n",
      "c:\\users\\rosha\\appdata\\local\\programs\\python\\python37\\lib\\site-packages\\sklearn\\neural_network\\multilayer_perceptron.py:566: ConvergenceWarning: Stochastic Optimizer: Maximum iterations (200) reached and the optimization hasn't converged yet.\n",
      "  % self.max_iter, ConvergenceWarning)\n",
      "c:\\users\\rosha\\appdata\\local\\programs\\python\\python37\\lib\\site-packages\\sklearn\\neural_network\\multilayer_perceptron.py:566: ConvergenceWarning: Stochastic Optimizer: Maximum iterations (200) reached and the optimization hasn't converged yet.\n",
      "  % self.max_iter, ConvergenceWarning)\n",
      "c:\\users\\rosha\\appdata\\local\\programs\\python\\python37\\lib\\site-packages\\sklearn\\neural_network\\multilayer_perceptron.py:566: ConvergenceWarning: Stochastic Optimizer: Maximum iterations (200) reached and the optimization hasn't converged yet.\n",
      "  % self.max_iter, ConvergenceWarning)\n",
      "c:\\users\\rosha\\appdata\\local\\programs\\python\\python37\\lib\\site-packages\\sklearn\\neural_network\\multilayer_perceptron.py:566: ConvergenceWarning: Stochastic Optimizer: Maximum iterations (200) reached and the optimization hasn't converged yet.\n",
      "  % self.max_iter, ConvergenceWarning)\n",
      "c:\\users\\rosha\\appdata\\local\\programs\\python\\python37\\lib\\site-packages\\sklearn\\neural_network\\multilayer_perceptron.py:566: ConvergenceWarning: Stochastic Optimizer: Maximum iterations (200) reached and the optimization hasn't converged yet.\n",
      "  % self.max_iter, ConvergenceWarning)\n",
      "c:\\users\\rosha\\appdata\\local\\programs\\python\\python37\\lib\\site-packages\\sklearn\\neural_network\\multilayer_perceptron.py:566: ConvergenceWarning: Stochastic Optimizer: Maximum iterations (200) reached and the optimization hasn't converged yet.\n",
      "  % self.max_iter, ConvergenceWarning)\n",
      "c:\\users\\rosha\\appdata\\local\\programs\\python\\python37\\lib\\site-packages\\sklearn\\neural_network\\multilayer_perceptron.py:566: ConvergenceWarning: Stochastic Optimizer: Maximum iterations (200) reached and the optimization hasn't converged yet.\n",
      "  % self.max_iter, ConvergenceWarning)\n",
      "c:\\users\\rosha\\appdata\\local\\programs\\python\\python37\\lib\\site-packages\\sklearn\\neural_network\\multilayer_perceptron.py:566: ConvergenceWarning: Stochastic Optimizer: Maximum iterations (200) reached and the optimization hasn't converged yet.\n",
      "  % self.max_iter, ConvergenceWarning)\n",
      "c:\\users\\rosha\\appdata\\local\\programs\\python\\python37\\lib\\site-packages\\sklearn\\neural_network\\multilayer_perceptron.py:566: ConvergenceWarning: Stochastic Optimizer: Maximum iterations (200) reached and the optimization hasn't converged yet.\n",
      "  % self.max_iter, ConvergenceWarning)\n",
      "c:\\users\\rosha\\appdata\\local\\programs\\python\\python37\\lib\\site-packages\\sklearn\\neural_network\\multilayer_perceptron.py:566: ConvergenceWarning: Stochastic Optimizer: Maximum iterations (200) reached and the optimization hasn't converged yet.\n",
      "  % self.max_iter, ConvergenceWarning)\n",
      "c:\\users\\rosha\\appdata\\local\\programs\\python\\python37\\lib\\site-packages\\sklearn\\neural_network\\multilayer_perceptron.py:566: ConvergenceWarning: Stochastic Optimizer: Maximum iterations (200) reached and the optimization hasn't converged yet.\n",
      "  % self.max_iter, ConvergenceWarning)\n",
      "c:\\users\\rosha\\appdata\\local\\programs\\python\\python37\\lib\\site-packages\\sklearn\\neural_network\\multilayer_perceptron.py:566: ConvergenceWarning: Stochastic Optimizer: Maximum iterations (200) reached and the optimization hasn't converged yet.\n",
      "  % self.max_iter, ConvergenceWarning)\n",
      "c:\\users\\rosha\\appdata\\local\\programs\\python\\python37\\lib\\site-packages\\sklearn\\neural_network\\multilayer_perceptron.py:566: ConvergenceWarning: Stochastic Optimizer: Maximum iterations (200) reached and the optimization hasn't converged yet.\n",
      "  % self.max_iter, ConvergenceWarning)\n",
      "c:\\users\\rosha\\appdata\\local\\programs\\python\\python37\\lib\\site-packages\\sklearn\\neural_network\\multilayer_perceptron.py:566: ConvergenceWarning: Stochastic Optimizer: Maximum iterations (200) reached and the optimization hasn't converged yet.\n",
      "  % self.max_iter, ConvergenceWarning)\n",
      "c:\\users\\rosha\\appdata\\local\\programs\\python\\python37\\lib\\site-packages\\sklearn\\neural_network\\multilayer_perceptron.py:566: ConvergenceWarning: Stochastic Optimizer: Maximum iterations (200) reached and the optimization hasn't converged yet.\n",
      "  % self.max_iter, ConvergenceWarning)\n",
      "c:\\users\\rosha\\appdata\\local\\programs\\python\\python37\\lib\\site-packages\\sklearn\\neural_network\\multilayer_perceptron.py:566: ConvergenceWarning: Stochastic Optimizer: Maximum iterations (200) reached and the optimization hasn't converged yet.\n",
      "  % self.max_iter, ConvergenceWarning)\n",
      "c:\\users\\rosha\\appdata\\local\\programs\\python\\python37\\lib\\site-packages\\sklearn\\neural_network\\multilayer_perceptron.py:566: ConvergenceWarning: Stochastic Optimizer: Maximum iterations (200) reached and the optimization hasn't converged yet.\n",
      "  % self.max_iter, ConvergenceWarning)\n",
      "c:\\users\\rosha\\appdata\\local\\programs\\python\\python37\\lib\\site-packages\\sklearn\\neural_network\\multilayer_perceptron.py:566: ConvergenceWarning: Stochastic Optimizer: Maximum iterations (200) reached and the optimization hasn't converged yet.\n",
      "  % self.max_iter, ConvergenceWarning)\n",
      "c:\\users\\rosha\\appdata\\local\\programs\\python\\python37\\lib\\site-packages\\sklearn\\neural_network\\multilayer_perceptron.py:566: ConvergenceWarning: Stochastic Optimizer: Maximum iterations (200) reached and the optimization hasn't converged yet.\n",
      "  % self.max_iter, ConvergenceWarning)\n",
      "c:\\users\\rosha\\appdata\\local\\programs\\python\\python37\\lib\\site-packages\\sklearn\\neural_network\\multilayer_perceptron.py:566: ConvergenceWarning: Stochastic Optimizer: Maximum iterations (200) reached and the optimization hasn't converged yet.\n",
      "  % self.max_iter, ConvergenceWarning)\n",
      "c:\\users\\rosha\\appdata\\local\\programs\\python\\python37\\lib\\site-packages\\sklearn\\neural_network\\multilayer_perceptron.py:566: ConvergenceWarning: Stochastic Optimizer: Maximum iterations (200) reached and the optimization hasn't converged yet.\n",
      "  % self.max_iter, ConvergenceWarning)\n",
      "c:\\users\\rosha\\appdata\\local\\programs\\python\\python37\\lib\\site-packages\\sklearn\\neural_network\\multilayer_perceptron.py:566: ConvergenceWarning: Stochastic Optimizer: Maximum iterations (200) reached and the optimization hasn't converged yet.\n",
      "  % self.max_iter, ConvergenceWarning)\n",
      "c:\\users\\rosha\\appdata\\local\\programs\\python\\python37\\lib\\site-packages\\sklearn\\neural_network\\multilayer_perceptron.py:566: ConvergenceWarning: Stochastic Optimizer: Maximum iterations (200) reached and the optimization hasn't converged yet.\n",
      "  % self.max_iter, ConvergenceWarning)\n",
      "c:\\users\\rosha\\appdata\\local\\programs\\python\\python37\\lib\\site-packages\\sklearn\\neural_network\\multilayer_perceptron.py:566: ConvergenceWarning: Stochastic Optimizer: Maximum iterations (200) reached and the optimization hasn't converged yet.\n",
      "  % self.max_iter, ConvergenceWarning)\n",
      "c:\\users\\rosha\\appdata\\local\\programs\\python\\python37\\lib\\site-packages\\sklearn\\neural_network\\multilayer_perceptron.py:566: ConvergenceWarning: Stochastic Optimizer: Maximum iterations (200) reached and the optimization hasn't converged yet.\n",
      "  % self.max_iter, ConvergenceWarning)\n"
     ]
    },
    {
     "name": "stderr",
     "output_type": "stream",
     "text": [
      "c:\\users\\rosha\\appdata\\local\\programs\\python\\python37\\lib\\site-packages\\sklearn\\neural_network\\multilayer_perceptron.py:566: ConvergenceWarning: Stochastic Optimizer: Maximum iterations (200) reached and the optimization hasn't converged yet.\n",
      "  % self.max_iter, ConvergenceWarning)\n",
      "c:\\users\\rosha\\appdata\\local\\programs\\python\\python37\\lib\\site-packages\\sklearn\\neural_network\\multilayer_perceptron.py:566: ConvergenceWarning: Stochastic Optimizer: Maximum iterations (200) reached and the optimization hasn't converged yet.\n",
      "  % self.max_iter, ConvergenceWarning)\n",
      "c:\\users\\rosha\\appdata\\local\\programs\\python\\python37\\lib\\site-packages\\sklearn\\neural_network\\multilayer_perceptron.py:566: ConvergenceWarning: Stochastic Optimizer: Maximum iterations (200) reached and the optimization hasn't converged yet.\n",
      "  % self.max_iter, ConvergenceWarning)\n",
      "c:\\users\\rosha\\appdata\\local\\programs\\python\\python37\\lib\\site-packages\\sklearn\\neural_network\\multilayer_perceptron.py:566: ConvergenceWarning: Stochastic Optimizer: Maximum iterations (200) reached and the optimization hasn't converged yet.\n",
      "  % self.max_iter, ConvergenceWarning)\n",
      "c:\\users\\rosha\\appdata\\local\\programs\\python\\python37\\lib\\site-packages\\sklearn\\neural_network\\multilayer_perceptron.py:566: ConvergenceWarning: Stochastic Optimizer: Maximum iterations (200) reached and the optimization hasn't converged yet.\n",
      "  % self.max_iter, ConvergenceWarning)\n",
      "c:\\users\\rosha\\appdata\\local\\programs\\python\\python37\\lib\\site-packages\\sklearn\\neural_network\\multilayer_perceptron.py:566: ConvergenceWarning: Stochastic Optimizer: Maximum iterations (200) reached and the optimization hasn't converged yet.\n",
      "  % self.max_iter, ConvergenceWarning)\n",
      "c:\\users\\rosha\\appdata\\local\\programs\\python\\python37\\lib\\site-packages\\sklearn\\neural_network\\multilayer_perceptron.py:566: ConvergenceWarning: Stochastic Optimizer: Maximum iterations (200) reached and the optimization hasn't converged yet.\n",
      "  % self.max_iter, ConvergenceWarning)\n",
      "c:\\users\\rosha\\appdata\\local\\programs\\python\\python37\\lib\\site-packages\\sklearn\\neural_network\\multilayer_perceptron.py:566: ConvergenceWarning: Stochastic Optimizer: Maximum iterations (200) reached and the optimization hasn't converged yet.\n",
      "  % self.max_iter, ConvergenceWarning)\n",
      "c:\\users\\rosha\\appdata\\local\\programs\\python\\python37\\lib\\site-packages\\sklearn\\neural_network\\multilayer_perceptron.py:566: ConvergenceWarning: Stochastic Optimizer: Maximum iterations (200) reached and the optimization hasn't converged yet.\n",
      "  % self.max_iter, ConvergenceWarning)\n",
      "c:\\users\\rosha\\appdata\\local\\programs\\python\\python37\\lib\\site-packages\\sklearn\\neural_network\\multilayer_perceptron.py:566: ConvergenceWarning: Stochastic Optimizer: Maximum iterations (200) reached and the optimization hasn't converged yet.\n",
      "  % self.max_iter, ConvergenceWarning)\n",
      "c:\\users\\rosha\\appdata\\local\\programs\\python\\python37\\lib\\site-packages\\sklearn\\neural_network\\multilayer_perceptron.py:566: ConvergenceWarning: Stochastic Optimizer: Maximum iterations (200) reached and the optimization hasn't converged yet.\n",
      "  % self.max_iter, ConvergenceWarning)\n",
      "c:\\users\\rosha\\appdata\\local\\programs\\python\\python37\\lib\\site-packages\\sklearn\\neural_network\\multilayer_perceptron.py:566: ConvergenceWarning: Stochastic Optimizer: Maximum iterations (200) reached and the optimization hasn't converged yet.\n",
      "  % self.max_iter, ConvergenceWarning)\n",
      "c:\\users\\rosha\\appdata\\local\\programs\\python\\python37\\lib\\site-packages\\sklearn\\neural_network\\multilayer_perceptron.py:566: ConvergenceWarning: Stochastic Optimizer: Maximum iterations (200) reached and the optimization hasn't converged yet.\n",
      "  % self.max_iter, ConvergenceWarning)\n",
      "c:\\users\\rosha\\appdata\\local\\programs\\python\\python37\\lib\\site-packages\\sklearn\\neural_network\\multilayer_perceptron.py:566: ConvergenceWarning: Stochastic Optimizer: Maximum iterations (200) reached and the optimization hasn't converged yet.\n",
      "  % self.max_iter, ConvergenceWarning)\n",
      "c:\\users\\rosha\\appdata\\local\\programs\\python\\python37\\lib\\site-packages\\sklearn\\neural_network\\multilayer_perceptron.py:566: ConvergenceWarning: Stochastic Optimizer: Maximum iterations (200) reached and the optimization hasn't converged yet.\n",
      "  % self.max_iter, ConvergenceWarning)\n",
      "c:\\users\\rosha\\appdata\\local\\programs\\python\\python37\\lib\\site-packages\\sklearn\\neural_network\\multilayer_perceptron.py:566: ConvergenceWarning: Stochastic Optimizer: Maximum iterations (200) reached and the optimization hasn't converged yet.\n",
      "  % self.max_iter, ConvergenceWarning)\n",
      "c:\\users\\rosha\\appdata\\local\\programs\\python\\python37\\lib\\site-packages\\sklearn\\neural_network\\multilayer_perceptron.py:566: ConvergenceWarning: Stochastic Optimizer: Maximum iterations (200) reached and the optimization hasn't converged yet.\n",
      "  % self.max_iter, ConvergenceWarning)\n",
      "c:\\users\\rosha\\appdata\\local\\programs\\python\\python37\\lib\\site-packages\\sklearn\\neural_network\\multilayer_perceptron.py:566: ConvergenceWarning: Stochastic Optimizer: Maximum iterations (200) reached and the optimization hasn't converged yet.\n",
      "  % self.max_iter, ConvergenceWarning)\n",
      "c:\\users\\rosha\\appdata\\local\\programs\\python\\python37\\lib\\site-packages\\sklearn\\neural_network\\multilayer_perceptron.py:566: ConvergenceWarning: Stochastic Optimizer: Maximum iterations (200) reached and the optimization hasn't converged yet.\n",
      "  % self.max_iter, ConvergenceWarning)\n",
      "c:\\users\\rosha\\appdata\\local\\programs\\python\\python37\\lib\\site-packages\\sklearn\\neural_network\\multilayer_perceptron.py:566: ConvergenceWarning: Stochastic Optimizer: Maximum iterations (200) reached and the optimization hasn't converged yet.\n",
      "  % self.max_iter, ConvergenceWarning)\n",
      "c:\\users\\rosha\\appdata\\local\\programs\\python\\python37\\lib\\site-packages\\sklearn\\neural_network\\multilayer_perceptron.py:566: ConvergenceWarning: Stochastic Optimizer: Maximum iterations (200) reached and the optimization hasn't converged yet.\n",
      "  % self.max_iter, ConvergenceWarning)\n",
      "c:\\users\\rosha\\appdata\\local\\programs\\python\\python37\\lib\\site-packages\\sklearn\\neural_network\\multilayer_perceptron.py:566: ConvergenceWarning: Stochastic Optimizer: Maximum iterations (200) reached and the optimization hasn't converged yet.\n",
      "  % self.max_iter, ConvergenceWarning)\n",
      "c:\\users\\rosha\\appdata\\local\\programs\\python\\python37\\lib\\site-packages\\sklearn\\neural_network\\multilayer_perceptron.py:566: ConvergenceWarning: Stochastic Optimizer: Maximum iterations (200) reached and the optimization hasn't converged yet.\n",
      "  % self.max_iter, ConvergenceWarning)\n",
      "c:\\users\\rosha\\appdata\\local\\programs\\python\\python37\\lib\\site-packages\\sklearn\\neural_network\\multilayer_perceptron.py:566: ConvergenceWarning: Stochastic Optimizer: Maximum iterations (200) reached and the optimization hasn't converged yet.\n",
      "  % self.max_iter, ConvergenceWarning)\n",
      "c:\\users\\rosha\\appdata\\local\\programs\\python\\python37\\lib\\site-packages\\sklearn\\neural_network\\multilayer_perceptron.py:566: ConvergenceWarning: Stochastic Optimizer: Maximum iterations (200) reached and the optimization hasn't converged yet.\n",
      "  % self.max_iter, ConvergenceWarning)\n",
      "c:\\users\\rosha\\appdata\\local\\programs\\python\\python37\\lib\\site-packages\\sklearn\\neural_network\\multilayer_perceptron.py:566: ConvergenceWarning: Stochastic Optimizer: Maximum iterations (200) reached and the optimization hasn't converged yet.\n",
      "  % self.max_iter, ConvergenceWarning)\n",
      "c:\\users\\rosha\\appdata\\local\\programs\\python\\python37\\lib\\site-packages\\sklearn\\neural_network\\multilayer_perceptron.py:566: ConvergenceWarning: Stochastic Optimizer: Maximum iterations (200) reached and the optimization hasn't converged yet.\n",
      "  % self.max_iter, ConvergenceWarning)\n",
      "c:\\users\\rosha\\appdata\\local\\programs\\python\\python37\\lib\\site-packages\\sklearn\\neural_network\\multilayer_perceptron.py:566: ConvergenceWarning: Stochastic Optimizer: Maximum iterations (200) reached and the optimization hasn't converged yet.\n",
      "  % self.max_iter, ConvergenceWarning)\n",
      "c:\\users\\rosha\\appdata\\local\\programs\\python\\python37\\lib\\site-packages\\sklearn\\neural_network\\multilayer_perceptron.py:566: ConvergenceWarning: Stochastic Optimizer: Maximum iterations (200) reached and the optimization hasn't converged yet.\n",
      "  % self.max_iter, ConvergenceWarning)\n",
      "c:\\users\\rosha\\appdata\\local\\programs\\python\\python37\\lib\\site-packages\\sklearn\\neural_network\\multilayer_perceptron.py:566: ConvergenceWarning: Stochastic Optimizer: Maximum iterations (200) reached and the optimization hasn't converged yet.\n",
      "  % self.max_iter, ConvergenceWarning)\n"
     ]
    },
    {
     "name": "stderr",
     "output_type": "stream",
     "text": [
      "c:\\users\\rosha\\appdata\\local\\programs\\python\\python37\\lib\\site-packages\\sklearn\\neural_network\\multilayer_perceptron.py:566: ConvergenceWarning: Stochastic Optimizer: Maximum iterations (200) reached and the optimization hasn't converged yet.\n",
      "  % self.max_iter, ConvergenceWarning)\n",
      "c:\\users\\rosha\\appdata\\local\\programs\\python\\python37\\lib\\site-packages\\sklearn\\neural_network\\multilayer_perceptron.py:566: ConvergenceWarning: Stochastic Optimizer: Maximum iterations (200) reached and the optimization hasn't converged yet.\n",
      "  % self.max_iter, ConvergenceWarning)\n",
      "c:\\users\\rosha\\appdata\\local\\programs\\python\\python37\\lib\\site-packages\\sklearn\\neural_network\\multilayer_perceptron.py:566: ConvergenceWarning: Stochastic Optimizer: Maximum iterations (200) reached and the optimization hasn't converged yet.\n",
      "  % self.max_iter, ConvergenceWarning)\n",
      "c:\\users\\rosha\\appdata\\local\\programs\\python\\python37\\lib\\site-packages\\sklearn\\neural_network\\multilayer_perceptron.py:566: ConvergenceWarning: Stochastic Optimizer: Maximum iterations (200) reached and the optimization hasn't converged yet.\n",
      "  % self.max_iter, ConvergenceWarning)\n",
      "c:\\users\\rosha\\appdata\\local\\programs\\python\\python37\\lib\\site-packages\\sklearn\\neural_network\\multilayer_perceptron.py:566: ConvergenceWarning: Stochastic Optimizer: Maximum iterations (200) reached and the optimization hasn't converged yet.\n",
      "  % self.max_iter, ConvergenceWarning)\n",
      "c:\\users\\rosha\\appdata\\local\\programs\\python\\python37\\lib\\site-packages\\sklearn\\neural_network\\multilayer_perceptron.py:566: ConvergenceWarning: Stochastic Optimizer: Maximum iterations (200) reached and the optimization hasn't converged yet.\n",
      "  % self.max_iter, ConvergenceWarning)\n",
      "c:\\users\\rosha\\appdata\\local\\programs\\python\\python37\\lib\\site-packages\\sklearn\\neural_network\\multilayer_perceptron.py:566: ConvergenceWarning: Stochastic Optimizer: Maximum iterations (200) reached and the optimization hasn't converged yet.\n",
      "  % self.max_iter, ConvergenceWarning)\n",
      "c:\\users\\rosha\\appdata\\local\\programs\\python\\python37\\lib\\site-packages\\sklearn\\neural_network\\multilayer_perceptron.py:566: ConvergenceWarning: Stochastic Optimizer: Maximum iterations (200) reached and the optimization hasn't converged yet.\n",
      "  % self.max_iter, ConvergenceWarning)\n",
      "c:\\users\\rosha\\appdata\\local\\programs\\python\\python37\\lib\\site-packages\\sklearn\\neural_network\\multilayer_perceptron.py:566: ConvergenceWarning: Stochastic Optimizer: Maximum iterations (200) reached and the optimization hasn't converged yet.\n",
      "  % self.max_iter, ConvergenceWarning)\n",
      "c:\\users\\rosha\\appdata\\local\\programs\\python\\python37\\lib\\site-packages\\sklearn\\neural_network\\multilayer_perceptron.py:566: ConvergenceWarning: Stochastic Optimizer: Maximum iterations (200) reached and the optimization hasn't converged yet.\n",
      "  % self.max_iter, ConvergenceWarning)\n",
      "c:\\users\\rosha\\appdata\\local\\programs\\python\\python37\\lib\\site-packages\\sklearn\\neural_network\\multilayer_perceptron.py:566: ConvergenceWarning: Stochastic Optimizer: Maximum iterations (200) reached and the optimization hasn't converged yet.\n",
      "  % self.max_iter, ConvergenceWarning)\n",
      "c:\\users\\rosha\\appdata\\local\\programs\\python\\python37\\lib\\site-packages\\sklearn\\neural_network\\multilayer_perceptron.py:566: ConvergenceWarning: Stochastic Optimizer: Maximum iterations (200) reached and the optimization hasn't converged yet.\n",
      "  % self.max_iter, ConvergenceWarning)\n",
      "c:\\users\\rosha\\appdata\\local\\programs\\python\\python37\\lib\\site-packages\\sklearn\\neural_network\\multilayer_perceptron.py:566: ConvergenceWarning: Stochastic Optimizer: Maximum iterations (200) reached and the optimization hasn't converged yet.\n",
      "  % self.max_iter, ConvergenceWarning)\n",
      "c:\\users\\rosha\\appdata\\local\\programs\\python\\python37\\lib\\site-packages\\sklearn\\neural_network\\multilayer_perceptron.py:566: ConvergenceWarning: Stochastic Optimizer: Maximum iterations (200) reached and the optimization hasn't converged yet.\n",
      "  % self.max_iter, ConvergenceWarning)\n",
      "c:\\users\\rosha\\appdata\\local\\programs\\python\\python37\\lib\\site-packages\\sklearn\\neural_network\\multilayer_perceptron.py:566: ConvergenceWarning: Stochastic Optimizer: Maximum iterations (200) reached and the optimization hasn't converged yet.\n",
      "  % self.max_iter, ConvergenceWarning)\n",
      "c:\\users\\rosha\\appdata\\local\\programs\\python\\python37\\lib\\site-packages\\sklearn\\neural_network\\multilayer_perceptron.py:566: ConvergenceWarning: Stochastic Optimizer: Maximum iterations (200) reached and the optimization hasn't converged yet.\n",
      "  % self.max_iter, ConvergenceWarning)\n",
      "c:\\users\\rosha\\appdata\\local\\programs\\python\\python37\\lib\\site-packages\\sklearn\\neural_network\\multilayer_perceptron.py:566: ConvergenceWarning: Stochastic Optimizer: Maximum iterations (200) reached and the optimization hasn't converged yet.\n",
      "  % self.max_iter, ConvergenceWarning)\n",
      "c:\\users\\rosha\\appdata\\local\\programs\\python\\python37\\lib\\site-packages\\sklearn\\neural_network\\multilayer_perceptron.py:566: ConvergenceWarning: Stochastic Optimizer: Maximum iterations (200) reached and the optimization hasn't converged yet.\n",
      "  % self.max_iter, ConvergenceWarning)\n",
      "c:\\users\\rosha\\appdata\\local\\programs\\python\\python37\\lib\\site-packages\\sklearn\\neural_network\\multilayer_perceptron.py:566: ConvergenceWarning: Stochastic Optimizer: Maximum iterations (200) reached and the optimization hasn't converged yet.\n",
      "  % self.max_iter, ConvergenceWarning)\n",
      "c:\\users\\rosha\\appdata\\local\\programs\\python\\python37\\lib\\site-packages\\sklearn\\neural_network\\multilayer_perceptron.py:566: ConvergenceWarning: Stochastic Optimizer: Maximum iterations (200) reached and the optimization hasn't converged yet.\n",
      "  % self.max_iter, ConvergenceWarning)\n",
      "c:\\users\\rosha\\appdata\\local\\programs\\python\\python37\\lib\\site-packages\\sklearn\\neural_network\\multilayer_perceptron.py:566: ConvergenceWarning: Stochastic Optimizer: Maximum iterations (200) reached and the optimization hasn't converged yet.\n",
      "  % self.max_iter, ConvergenceWarning)\n",
      "c:\\users\\rosha\\appdata\\local\\programs\\python\\python37\\lib\\site-packages\\sklearn\\neural_network\\multilayer_perceptron.py:566: ConvergenceWarning: Stochastic Optimizer: Maximum iterations (200) reached and the optimization hasn't converged yet.\n",
      "  % self.max_iter, ConvergenceWarning)\n",
      "c:\\users\\rosha\\appdata\\local\\programs\\python\\python37\\lib\\site-packages\\sklearn\\neural_network\\multilayer_perceptron.py:566: ConvergenceWarning: Stochastic Optimizer: Maximum iterations (200) reached and the optimization hasn't converged yet.\n",
      "  % self.max_iter, ConvergenceWarning)\n",
      "c:\\users\\rosha\\appdata\\local\\programs\\python\\python37\\lib\\site-packages\\sklearn\\neural_network\\multilayer_perceptron.py:566: ConvergenceWarning: Stochastic Optimizer: Maximum iterations (200) reached and the optimization hasn't converged yet.\n",
      "  % self.max_iter, ConvergenceWarning)\n",
      "c:\\users\\rosha\\appdata\\local\\programs\\python\\python37\\lib\\site-packages\\sklearn\\neural_network\\multilayer_perceptron.py:566: ConvergenceWarning: Stochastic Optimizer: Maximum iterations (200) reached and the optimization hasn't converged yet.\n",
      "  % self.max_iter, ConvergenceWarning)\n",
      "c:\\users\\rosha\\appdata\\local\\programs\\python\\python37\\lib\\site-packages\\sklearn\\neural_network\\multilayer_perceptron.py:566: ConvergenceWarning: Stochastic Optimizer: Maximum iterations (200) reached and the optimization hasn't converged yet.\n",
      "  % self.max_iter, ConvergenceWarning)\n",
      "c:\\users\\rosha\\appdata\\local\\programs\\python\\python37\\lib\\site-packages\\sklearn\\neural_network\\multilayer_perceptron.py:566: ConvergenceWarning: Stochastic Optimizer: Maximum iterations (200) reached and the optimization hasn't converged yet.\n",
      "  % self.max_iter, ConvergenceWarning)\n",
      "c:\\users\\rosha\\appdata\\local\\programs\\python\\python37\\lib\\site-packages\\sklearn\\neural_network\\multilayer_perceptron.py:566: ConvergenceWarning: Stochastic Optimizer: Maximum iterations (200) reached and the optimization hasn't converged yet.\n",
      "  % self.max_iter, ConvergenceWarning)\n",
      "c:\\users\\rosha\\appdata\\local\\programs\\python\\python37\\lib\\site-packages\\sklearn\\neural_network\\multilayer_perceptron.py:566: ConvergenceWarning: Stochastic Optimizer: Maximum iterations (200) reached and the optimization hasn't converged yet.\n",
      "  % self.max_iter, ConvergenceWarning)\n",
      "c:\\users\\rosha\\appdata\\local\\programs\\python\\python37\\lib\\site-packages\\sklearn\\neural_network\\multilayer_perceptron.py:566: ConvergenceWarning: Stochastic Optimizer: Maximum iterations (200) reached and the optimization hasn't converged yet.\n",
      "  % self.max_iter, ConvergenceWarning)\n"
     ]
    },
    {
     "name": "stdout",
     "output_type": "stream",
     "text": [
      "Best Alpha: 0.005414413211338522\n",
      "Mean Squared Error: 12.574486031649501\n"
     ]
    },
    {
     "name": "stderr",
     "output_type": "stream",
     "text": [
      "c:\\users\\rosha\\appdata\\local\\programs\\python\\python37\\lib\\site-packages\\sklearn\\neural_network\\multilayer_perceptron.py:566: ConvergenceWarning: Stochastic Optimizer: Maximum iterations (200) reached and the optimization hasn't converged yet.\n",
      "  % self.max_iter, ConvergenceWarning)\n"
     ]
    }
   ],
   "source": [
    "from sklearn.model_selection import RandomizedSearchCV\n",
    "from scipy.stats import loguniform\n",
    "\n",
    "# Define the parameter grid for randomized search\n",
    "param_distributions = {\n",
    "    'alpha': loguniform(1e-5, 1e0)  # Search over a range of alpha values\n",
    "}\n",
    "\n",
    "# Initialize the MLPRegressor\n",
    "neural_network_model = MLPRegressor(hidden_layer_sizes=(100, 100), activation='relu', learning_rate_init=0.001, random_state=42)\n",
    "\n",
    "# Perform randomized search\n",
    "random_search = RandomizedSearchCV(neural_network_model, param_distributions, n_iter=50, cv=3, scoring='neg_mean_squared_error', random_state=42)\n",
    "random_search.fit(X_train_normalized, y_train)\n",
    "\n",
    "# Get the best model\n",
    "best_model = random_search.best_estimator_\n",
    "\n",
    "# Make predictions on the normalized test data\n",
    "y_pred = best_model.predict(X_test_normalized)\n",
    "\n",
    "# Evaluate the model using Mean Squared Error\n",
    "mse = mean_squared_error(y_test, y_pred)\n",
    "print(\"Best Alpha:\", best_model.alpha)\n",
    "print(\"Mean Squared Error:\", mse)\n"
   ]
  },
  {
   "cell_type": "code",
   "execution_count": 72,
   "id": "5f6cfec8",
   "metadata": {},
   "outputs": [
    {
     "name": "stdout",
     "output_type": "stream",
     "text": [
      "Model and scaler saved to: neural_network_model_with_scaler.pkl\n"
     ]
    },
    {
     "name": "stderr",
     "output_type": "stream",
     "text": [
      "c:\\users\\rosha\\appdata\\local\\programs\\python\\python37\\lib\\site-packages\\sklearn\\externals\\joblib\\__init__.py:15: DeprecationWarning: sklearn.externals.joblib is deprecated in 0.21 and will be removed in 0.23. Please import this functionality directly from joblib, which can be installed with: pip install joblib. If this warning is raised when loading pickled models, you may need to re-serialize those models with scikit-learn 0.21+.\n",
      "  warnings.warn(msg, category=DeprecationWarning)\n"
     ]
    }
   ],
   "source": [
    "from sklearn.externals import joblib\n",
    "\n",
    "# Define the filename for the saved model file\n",
    "model_filename = 'neural_network_model_with_scaler.pkl'\n",
    "\n",
    "# Create a dictionary to store both the model and the scaler\n",
    "saved_objects = {\n",
    "    'model': best_model,\n",
    "    'scaler': scaler\n",
    "}\n",
    "\n",
    "# Save the dictionary containing both objects to a file\n",
    "joblib.dump(saved_objects, model_filename)\n",
    "\n",
    "print(\"Model and scaler saved to:\", model_filename)\n"
   ]
  },
  {
   "cell_type": "code",
   "execution_count": null,
   "id": "908dcdd4",
   "metadata": {},
   "outputs": [],
   "source": []
  }
 ],
 "metadata": {
  "kernelspec": {
   "display_name": "Python 3 (ipykernel)",
   "language": "python",
   "name": "python3"
  },
  "language_info": {
   "codemirror_mode": {
    "name": "ipython",
    "version": 3
   },
   "file_extension": ".py",
   "mimetype": "text/x-python",
   "name": "python",
   "nbconvert_exporter": "python",
   "pygments_lexer": "ipython3",
   "version": "3.7.0"
  }
 },
 "nbformat": 4,
 "nbformat_minor": 5
}
